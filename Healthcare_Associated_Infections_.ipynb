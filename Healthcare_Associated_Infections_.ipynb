{
 "cells": [
  {
   "cell_type": "code",
   "execution_count": 145,
   "id": "66fb1c56-5e25-4bbf-b9a3-27fe85b4c798",
   "metadata": {},
   "outputs": [],
   "source": [
    "import matplotlib.pyplot as plt\n",
    "import seaborn as sns\n",
    "import pandas as pd\n",
    "x=pd.read_csv(r\"C:\\Users\\vidya\\Downloads\\Healthcare_Associated_Infections_-_Hospital.csv\")     \n",
    "x.head(2)\n",
    "import warnings\n",
    "warnings.filterwarnings(\"ignore\")"
   ]
  },
  {
   "cell_type": "code",
   "execution_count": 146,
   "id": "77047099-c59a-46b5-a126-1c017168a5b0",
   "metadata": {},
   "outputs": [],
   "source": [
    "pd.set_option(\"Display.max_columns\",100)"
   ]
  },
  {
   "cell_type": "code",
   "execution_count": 147,
   "id": "bba39c1c-3c97-4c27-a370-266c63d57251",
   "metadata": {},
   "outputs": [
    {
     "data": {
      "text/html": [
       "<div>\n",
       "<style scoped>\n",
       "    .dataframe tbody tr th:only-of-type {\n",
       "        vertical-align: middle;\n",
       "    }\n",
       "\n",
       "    .dataframe tbody tr th {\n",
       "        vertical-align: top;\n",
       "    }\n",
       "\n",
       "    .dataframe thead th {\n",
       "        text-align: right;\n",
       "    }\n",
       "</style>\n",
       "<table border=\"1\" class=\"dataframe\">\n",
       "  <thead>\n",
       "    <tr style=\"text-align: right;\">\n",
       "      <th></th>\n",
       "      <th>Provider ID</th>\n",
       "      <th>Hospital Name</th>\n",
       "      <th>Address</th>\n",
       "      <th>City</th>\n",
       "      <th>State</th>\n",
       "      <th>ZIP Code</th>\n",
       "      <th>County Name</th>\n",
       "      <th>Phone Number</th>\n",
       "      <th>Measure Name</th>\n",
       "      <th>Measure ID</th>\n",
       "      <th>Compared to National</th>\n",
       "      <th>Score</th>\n",
       "      <th>Footnote</th>\n",
       "      <th>Measure Start Date</th>\n",
       "      <th>Measure End Date</th>\n",
       "      <th>Location</th>\n",
       "    </tr>\n",
       "  </thead>\n",
       "  <tbody>\n",
       "    <tr>\n",
       "      <th>0</th>\n",
       "      <td>10005</td>\n",
       "      <td>MARSHALL MEDICAL CENTER SOUTH</td>\n",
       "      <td>2505 U S HIGHWAY 431 NORTH</td>\n",
       "      <td>BOAZ</td>\n",
       "      <td>AL</td>\n",
       "      <td>35957</td>\n",
       "      <td>MARSHALL</td>\n",
       "      <td>2565938310</td>\n",
       "      <td>CLABSI: Lower Confidence Limit</td>\n",
       "      <td>HAI_1_CI_LOWER</td>\n",
       "      <td>No Different than National Benchmark</td>\n",
       "      <td>0.165</td>\n",
       "      <td>NaN</td>\n",
       "      <td>01/01/2015</td>\n",
       "      <td>06/30/2015</td>\n",
       "      <td>2505 U S HIGHWAY 431 NORTH\\nBOAZ, AL 35957\\n</td>\n",
       "    </tr>\n",
       "    <tr>\n",
       "      <th>1</th>\n",
       "      <td>10005</td>\n",
       "      <td>MARSHALL MEDICAL CENTER SOUTH</td>\n",
       "      <td>2505 U S HIGHWAY 431 NORTH</td>\n",
       "      <td>BOAZ</td>\n",
       "      <td>AL</td>\n",
       "      <td>35957</td>\n",
       "      <td>MARSHALL</td>\n",
       "      <td>2565938310</td>\n",
       "      <td>CLABSI: Upper Confidence Limit</td>\n",
       "      <td>HAI_1_CI_UPPER</td>\n",
       "      <td>No Different than National Benchmark</td>\n",
       "      <td>3.249</td>\n",
       "      <td>NaN</td>\n",
       "      <td>01/01/2015</td>\n",
       "      <td>06/30/2015</td>\n",
       "      <td>2505 U S HIGHWAY 431 NORTH\\nBOAZ, AL 35957\\n</td>\n",
       "    </tr>\n",
       "  </tbody>\n",
       "</table>\n",
       "</div>"
      ],
      "text/plain": [
       "   Provider ID                  Hospital Name                     Address  \\\n",
       "0        10005  MARSHALL MEDICAL CENTER SOUTH  2505 U S HIGHWAY 431 NORTH   \n",
       "1        10005  MARSHALL MEDICAL CENTER SOUTH  2505 U S HIGHWAY 431 NORTH   \n",
       "\n",
       "   City State  ZIP Code County Name  Phone Number  \\\n",
       "0  BOAZ    AL     35957    MARSHALL    2565938310   \n",
       "1  BOAZ    AL     35957    MARSHALL    2565938310   \n",
       "\n",
       "                     Measure Name      Measure ID  \\\n",
       "0  CLABSI: Lower Confidence Limit  HAI_1_CI_LOWER   \n",
       "1  CLABSI: Upper Confidence Limit  HAI_1_CI_UPPER   \n",
       "\n",
       "                   Compared to National  Score Footnote Measure Start Date  \\\n",
       "0  No Different than National Benchmark  0.165      NaN         01/01/2015   \n",
       "1  No Different than National Benchmark  3.249      NaN         01/01/2015   \n",
       "\n",
       "  Measure End Date                                      Location  \n",
       "0       06/30/2015  2505 U S HIGHWAY 431 NORTH\\nBOAZ, AL 35957\\n  \n",
       "1       06/30/2015  2505 U S HIGHWAY 431 NORTH\\nBOAZ, AL 35957\\n  "
      ]
     },
     "execution_count": 147,
     "metadata": {},
     "output_type": "execute_result"
    }
   ],
   "source": [
    "x.head(2)"
   ]
  },
  {
   "cell_type": "code",
   "execution_count": 148,
   "id": "b710f26f-4ac2-4a4a-89c2-0969cfa20436",
   "metadata": {},
   "outputs": [
    {
     "data": {
      "text/plain": [
       "(222864, 16)"
      ]
     },
     "execution_count": 148,
     "metadata": {},
     "output_type": "execute_result"
    }
   ],
   "source": [
    "x.shape"
   ]
  },
  {
   "cell_type": "code",
   "execution_count": 149,
   "id": "e8eb4ba6-e453-4a37-bce7-6d791f4400cf",
   "metadata": {},
   "outputs": [
    {
     "name": "stdout",
     "output_type": "stream",
     "text": [
      "<class 'pandas.core.frame.DataFrame'>\n",
      "RangeIndex: 222864 entries, 0 to 222863\n",
      "Data columns (total 16 columns):\n",
      " #   Column                Non-Null Count   Dtype \n",
      "---  ------                --------------   ----- \n",
      " 0   Provider ID           222864 non-null  int64 \n",
      " 1   Hospital Name         222864 non-null  object\n",
      " 2   Address               222864 non-null  object\n",
      " 3   City                  222864 non-null  object\n",
      " 4   State                 222864 non-null  object\n",
      " 5   ZIP Code              222864 non-null  int64 \n",
      " 6   County Name           222240 non-null  object\n",
      " 7   Phone Number          222864 non-null  int64 \n",
      " 8   Measure Name          222864 non-null  object\n",
      " 9   Measure ID            222864 non-null  object\n",
      " 10  Compared to National  222864 non-null  object\n",
      " 11  Score                 222864 non-null  object\n",
      " 12  Footnote              141684 non-null  object\n",
      " 13  Measure Start Date    222864 non-null  object\n",
      " 14  Measure End Date      222864 non-null  object\n",
      " 15  Location              222864 non-null  object\n",
      "dtypes: int64(3), object(13)\n",
      "memory usage: 27.2+ MB\n"
     ]
    }
   ],
   "source": [
    "x.info()"
   ]
  },
  {
   "cell_type": "code",
   "execution_count": 150,
   "id": "9c1c6416-50cb-4a54-9bfa-b55a4855cbf6",
   "metadata": {},
   "outputs": [
    {
     "data": {
      "text/plain": [
       "Provider ID                 0\n",
       "Hospital Name               0\n",
       "Address                     0\n",
       "City                        0\n",
       "State                       0\n",
       "ZIP Code                    0\n",
       "County Name               624\n",
       "Phone Number                0\n",
       "Measure Name                0\n",
       "Measure ID                  0\n",
       "Compared to National        0\n",
       "Score                       0\n",
       "Footnote                81180\n",
       "Measure Start Date          0\n",
       "Measure End Date            0\n",
       "Location                    0\n",
       "dtype: int64"
      ]
     },
     "execution_count": 150,
     "metadata": {},
     "output_type": "execute_result"
    }
   ],
   "source": [
    "x.isnull().sum()"
   ]
  },
  {
   "cell_type": "code",
   "execution_count": 151,
   "id": "4045c1c4-c150-4b84-b62e-492753a6c9a2",
   "metadata": {},
   "outputs": [
    {
     "data": {
      "image/png": "[encoded data removed]",
      "text/plain": [
       "<Figure size 640x480 with 1 Axes>"
      ]
     },
     "metadata": {},
     "output_type": "display_data"
    }
   ],
   "source": [
    "sns.histplot(x[\"County Name\"],bins=20,kde=True)\n",
    "plt.show()"
   ]
  },
  {
   "cell_type": "code",
   "execution_count": 152,
   "id": "b62bbe95-a6b4-46e6-9d49-b791d00803f6",
   "metadata": {},
   "outputs": [
    {
     "data": {
      "text/plain": [
       "array(['MARSHALL', 'DE KALB', 'RANDOLPH', ..., 'BLACKFORD',\n",
       "       'EAST CARROLL', 'LAKE OF THE WOODS'], dtype=object)"
      ]
     },
     "execution_count": 152,
     "metadata": {},
     "output_type": "execute_result"
    }
   ],
   "source": [
    "x[\"County Name\"].unique()"
   ]
  },
  {
   "cell_type": "code",
   "execution_count": 153,
   "id": "7f352ab4-c94e-4bd1-a2cf-7c2450e1a014",
   "metadata": {},
   "outputs": [
    {
     "data": {
      "text/plain": [
       "1530"
      ]
     },
     "execution_count": 153,
     "metadata": {},
     "output_type": "execute_result"
    }
   ],
   "source": [
    "x[\"County Name\"].nunique()"
   ]
  },
  {
   "cell_type": "code",
   "execution_count": 154,
   "id": "b4e110c1-6284-48ee-9c25-e9d91270945b",
   "metadata": {},
   "outputs": [
    {
     "data": {
      "text/plain": [
       "County Name\n",
       "LOS ANGELES          3792\n",
       "COOK                 2304\n",
       "JEFFERSON            2160\n",
       "WASHINGTON           2112\n",
       "MONTGOMERY           1920\n",
       "                     ... \n",
       "SAINT HELENA           48\n",
       "DAY                    48\n",
       "HENDRY                 48\n",
       "MONONA                 48\n",
       "LAKE OF THE WOODS      48\n",
       "Name: count, Length: 1530, dtype: int64"
      ]
     },
     "execution_count": 154,
     "metadata": {},
     "output_type": "execute_result"
    }
   ],
   "source": [
    "x[\"County Name\"].value_counts()"
   ]
  },
  {
   "cell_type": "code",
   "execution_count": 155,
   "id": "82f25308-5f5a-4cd3-a6bb-403f0704ab47",
   "metadata": {},
   "outputs": [],
   "source": [
    "x[\"County Name\"].fillna(\"LOS ANGELES\",inplace=True)"
   ]
  },
  {
   "cell_type": "code",
   "execution_count": 156,
   "id": "c69e6c5d-ad79-4bc1-97eb-11bb4a222541",
   "metadata": {},
   "outputs": [
    {
     "data": {
      "text/plain": [
       "0            MARSHALL\n",
       "1            MARSHALL\n",
       "2            MARSHALL\n",
       "3            MARSHALL\n",
       "4            MARSHALL\n",
       "             ...     \n",
       "222859         DIVIDE\n",
       "222860      CALEDONIA\n",
       "222861        ELKHART\n",
       "222862    SANTA CLARA\n",
       "222863           KANE\n",
       "Name: County Name, Length: 222864, dtype: object"
      ]
     },
     "execution_count": 156,
     "metadata": {},
     "output_type": "execute_result"
    }
   ],
   "source": [
    "x[\"County Name\"]"
   ]
  },
  {
   "cell_type": "code",
   "execution_count": 157,
   "id": "f833d5a6-fec0-413e-a2e0-d93117d8847d",
   "metadata": {},
   "outputs": [
    {
     "data": {
      "text/plain": [
       "Provider ID                 0\n",
       "Hospital Name               0\n",
       "Address                     0\n",
       "City                        0\n",
       "State                       0\n",
       "ZIP Code                    0\n",
       "County Name                 0\n",
       "Phone Number                0\n",
       "Measure Name                0\n",
       "Measure ID                  0\n",
       "Compared to National        0\n",
       "Score                       0\n",
       "Footnote                81180\n",
       "Measure Start Date          0\n",
       "Measure End Date            0\n",
       "Location                    0\n",
       "dtype: int64"
      ]
     },
     "execution_count": 157,
     "metadata": {},
     "output_type": "execute_result"
    }
   ],
   "source": [
    "x.isnull().sum()"
   ]
  },
  {
   "cell_type": "code",
   "execution_count": 158,
   "id": "7f4aa1ba-1074-4017-8391-bb4a578e843e",
   "metadata": {},
   "outputs": [],
   "source": [
    "x.drop(columns=\"Footnote\",inplace=True)"
   ]
  },
  {
   "cell_type": "code",
   "execution_count": 159,
   "id": "e02ed599-2738-4bb5-afc9-1e80ce6f0d2e",
   "metadata": {},
   "outputs": [
    {
     "data": {
      "text/html": [
       "<div>\n",
       "<style scoped>\n",
       "    .dataframe tbody tr th:only-of-type {\n",
       "        vertical-align: middle;\n",
       "    }\n",
       "\n",
       "    .dataframe tbody tr th {\n",
       "        vertical-align: top;\n",
       "    }\n",
       "\n",
       "    .dataframe thead th {\n",
       "        text-align: right;\n",
       "    }\n",
       "</style>\n",
       "<table border=\"1\" class=\"dataframe\">\n",
       "  <thead>\n",
       "    <tr style=\"text-align: right;\">\n",
       "      <th></th>\n",
       "      <th>Provider ID</th>\n",
       "      <th>Hospital Name</th>\n",
       "      <th>Address</th>\n",
       "      <th>City</th>\n",
       "      <th>State</th>\n",
       "      <th>ZIP Code</th>\n",
       "      <th>County Name</th>\n",
       "      <th>Phone Number</th>\n",
       "      <th>Measure Name</th>\n",
       "      <th>Measure ID</th>\n",
       "      <th>Compared to National</th>\n",
       "      <th>Score</th>\n",
       "      <th>Measure Start Date</th>\n",
       "      <th>Measure End Date</th>\n",
       "      <th>Location</th>\n",
       "    </tr>\n",
       "  </thead>\n",
       "  <tbody>\n",
       "    <tr>\n",
       "      <th>0</th>\n",
       "      <td>10005</td>\n",
       "      <td>MARSHALL MEDICAL CENTER SOUTH</td>\n",
       "      <td>2505 U S HIGHWAY 431 NORTH</td>\n",
       "      <td>BOAZ</td>\n",
       "      <td>AL</td>\n",
       "      <td>35957</td>\n",
       "      <td>MARSHALL</td>\n",
       "      <td>2565938310</td>\n",
       "      <td>CLABSI: Lower Confidence Limit</td>\n",
       "      <td>HAI_1_CI_LOWER</td>\n",
       "      <td>No Different than National Benchmark</td>\n",
       "      <td>0.165</td>\n",
       "      <td>01/01/2015</td>\n",
       "      <td>06/30/2015</td>\n",
       "      <td>2505 U S HIGHWAY 431 NORTH\\nBOAZ, AL 35957\\n</td>\n",
       "    </tr>\n",
       "    <tr>\n",
       "      <th>1</th>\n",
       "      <td>10005</td>\n",
       "      <td>MARSHALL MEDICAL CENTER SOUTH</td>\n",
       "      <td>2505 U S HIGHWAY 431 NORTH</td>\n",
       "      <td>BOAZ</td>\n",
       "      <td>AL</td>\n",
       "      <td>35957</td>\n",
       "      <td>MARSHALL</td>\n",
       "      <td>2565938310</td>\n",
       "      <td>CLABSI: Upper Confidence Limit</td>\n",
       "      <td>HAI_1_CI_UPPER</td>\n",
       "      <td>No Different than National Benchmark</td>\n",
       "      <td>3.249</td>\n",
       "      <td>01/01/2015</td>\n",
       "      <td>06/30/2015</td>\n",
       "      <td>2505 U S HIGHWAY 431 NORTH\\nBOAZ, AL 35957\\n</td>\n",
       "    </tr>\n",
       "  </tbody>\n",
       "</table>\n",
       "</div>"
      ],
      "text/plain": [
       "   Provider ID                  Hospital Name                     Address  \\\n",
       "0        10005  MARSHALL MEDICAL CENTER SOUTH  2505 U S HIGHWAY 431 NORTH   \n",
       "1        10005  MARSHALL MEDICAL CENTER SOUTH  2505 U S HIGHWAY 431 NORTH   \n",
       "\n",
       "   City State  ZIP Code County Name  Phone Number  \\\n",
       "0  BOAZ    AL     35957    MARSHALL    2565938310   \n",
       "1  BOAZ    AL     35957    MARSHALL    2565938310   \n",
       "\n",
       "                     Measure Name      Measure ID  \\\n",
       "0  CLABSI: Lower Confidence Limit  HAI_1_CI_LOWER   \n",
       "1  CLABSI: Upper Confidence Limit  HAI_1_CI_UPPER   \n",
       "\n",
       "                   Compared to National  Score Measure Start Date  \\\n",
       "0  No Different than National Benchmark  0.165         01/01/2015   \n",
       "1  No Different than National Benchmark  3.249         01/01/2015   \n",
       "\n",
       "  Measure End Date                                      Location  \n",
       "0       06/30/2015  2505 U S HIGHWAY 431 NORTH\\nBOAZ, AL 35957\\n  \n",
       "1       06/30/2015  2505 U S HIGHWAY 431 NORTH\\nBOAZ, AL 35957\\n  "
      ]
     },
     "execution_count": 159,
     "metadata": {},
     "output_type": "execute_result"
    }
   ],
   "source": [
    "x.head(2)"
   ]
  },
  {
   "cell_type": "code",
   "execution_count": 160,
   "id": "b85c6700-be2d-4760-80b8-67008ac31eca",
   "metadata": {},
   "outputs": [
    {
     "data": {
      "text/plain": [
       "Provider ID             0\n",
       "Hospital Name           0\n",
       "Address                 0\n",
       "City                    0\n",
       "State                   0\n",
       "ZIP Code                0\n",
       "County Name             0\n",
       "Phone Number            0\n",
       "Measure Name            0\n",
       "Measure ID              0\n",
       "Compared to National    0\n",
       "Score                   0\n",
       "Measure Start Date      0\n",
       "Measure End Date        0\n",
       "Location                0\n",
       "dtype: int64"
      ]
     },
     "execution_count": 160,
     "metadata": {},
     "output_type": "execute_result"
    }
   ],
   "source": [
    "x.isnull().sum()"
   ]
  },
  {
   "cell_type": "code",
   "execution_count": 161,
   "id": "1c5a3285-585b-483e-8154-a572e01aa022",
   "metadata": {},
   "outputs": [
    {
     "data": {
      "text/plain": [
       "(222864, 15)"
      ]
     },
     "execution_count": 161,
     "metadata": {},
     "output_type": "execute_result"
    }
   ],
   "source": [
    "x.shape"
   ]
  },
  {
   "cell_type": "code",
   "execution_count": 162,
   "id": "8e3eb410-7a4d-4ef5-8ed8-60910748781b",
   "metadata": {},
   "outputs": [
    {
     "data": {
      "text/plain": [
       "array([ 10005,  10012,  10032, ..., 110165, 500053, 370218], dtype=int64)"
      ]
     },
     "execution_count": 162,
     "metadata": {},
     "output_type": "execute_result"
    }
   ],
   "source": [
    "x[\"Provider ID\"].unique()"
   ]
  },
  {
   "cell_type": "code",
   "execution_count": 163,
   "id": "59dc8053-c0cc-4ec9-972c-1e8b00cdfff2",
   "metadata": {},
   "outputs": [
    {
     "data": {
      "text/plain": [
       "array(['MARSHALL MEDICAL CENTER SOUTH', 'DEKALB REGIONAL MEDICAL CENTER',\n",
       "       'WEDOWEE HOSPITAL', ..., 'SOUTHERN REGIONAL MEDICAL CENTER',\n",
       "       'KENNEWICK GENERAL HOSPITAL', 'SAINT FRANCIS HOSPITAL SOUTH, LLC'],\n",
       "      dtype=object)"
      ]
     },
     "execution_count": 163,
     "metadata": {},
     "output_type": "execute_result"
    }
   ],
   "source": [
    "x[\"Hospital Name\"].unique()"
   ]
  },
  {
   "cell_type": "code",
   "execution_count": 164,
   "id": "fc65e7f6-3beb-4fa1-93e1-0357d3e5dbb8",
   "metadata": {},
   "outputs": [
    {
     "data": {
      "text/plain": [
       "4449"
      ]
     },
     "execution_count": 164,
     "metadata": {},
     "output_type": "execute_result"
    }
   ],
   "source": [
    "x[\"Hospital Name\"].nunique()"
   ]
  },
  {
   "cell_type": "code",
   "execution_count": 165,
   "id": "0e69ff92-fed5-4284-bdda-2f02eceb527f",
   "metadata": {},
   "outputs": [
    {
     "data": {
      "text/plain": [
       "0             MARSHALL\n",
       "1             MARSHALL\n",
       "2             MARSHALL\n",
       "3             MARSHALL\n",
       "4             MARSHALL\n",
       "              ...     \n",
       "222859              ST\n",
       "222860    NORTHEASTERN\n",
       "222861              IU\n",
       "222862           SANTA\n",
       "222863        PRESENCE\n",
       "Name: Hospital Name, Length: 222864, dtype: object"
      ]
     },
     "execution_count": 165,
     "metadata": {},
     "output_type": "execute_result"
    }
   ],
   "source": [
    "x[\"Hospital Name\"]=x[\"Hospital Name\"].apply(lambda i:i.split(\" \")[0])\n",
    "x[\"Hospital Name\"]"
   ]
  },
  {
   "cell_type": "code",
   "execution_count": 166,
   "id": "83db07fc-679a-4ae7-a39d-6183b7d62cb2",
   "metadata": {},
   "outputs": [
    {
     "data": {
      "text/plain": [
       "Hospital Name\n",
       "ST              11520\n",
       "MERCY            3984\n",
       "UNIVERSITY       2928\n",
       "MEMORIAL         2928\n",
       "SAINT            2304\n",
       "                ...  \n",
       "MANATI             48\n",
       "HACKETTSTOWN       48\n",
       "PROVIDENT          48\n",
       "KETTERING          48\n",
       "KENNEWICK          48\n",
       "Name: count, Length: 2094, dtype: int64"
      ]
     },
     "execution_count": 166,
     "metadata": {},
     "output_type": "execute_result"
    }
   ],
   "source": [
    "x[\"Hospital Name\"].value_counts()"
   ]
  },
  {
   "cell_type": "code",
   "execution_count": 167,
   "id": "be11b52f-81bd-40d2-b852-e9b86bc9e23b",
   "metadata": {},
   "outputs": [
    {
     "data": {
      "text/plain": [
       "array(['MARSHALL', 'DEKALB', 'WEDOWEE', ..., 'GREENVIEW', 'TALLAHASSEE',\n",
       "       'KENNEWICK'], dtype=object)"
      ]
     },
     "execution_count": 167,
     "metadata": {},
     "output_type": "execute_result"
    }
   ],
   "source": [
    "x[\"Hospital Name\"].unique()"
   ]
  },
  {
   "cell_type": "code",
   "execution_count": 168,
   "id": "12b758a2-b57e-44e8-a703-48f91b58d7ff",
   "metadata": {},
   "outputs": [
    {
     "data": {
      "text/plain": [
       "array(['2505 U S HIGHWAY 431 NORTH', '200 MED CENTER DRIVE',\n",
       "       '209 NORTH MAIN STREET', ..., '11 UPPER RIVERDALE ROAD, SW',\n",
       "       '900 SOUTH AUBURN STREET', '10501 EAST 91ST STREET SOUTH'],\n",
       "      dtype=object)"
      ]
     },
     "execution_count": 168,
     "metadata": {},
     "output_type": "execute_result"
    }
   ],
   "source": [
    "x[\"Address\"].unique()"
   ]
  },
  {
   "cell_type": "code",
   "execution_count": 169,
   "id": "1a85372d-5537-4018-a634-095c9ee5eb20",
   "metadata": {},
   "outputs": [
    {
     "data": {
      "text/plain": [
       "4616"
      ]
     },
     "execution_count": 169,
     "metadata": {},
     "output_type": "execute_result"
    }
   ],
   "source": [
    "x[\"Address\"].nunique()"
   ]
  },
  {
   "cell_type": "code",
   "execution_count": 170,
   "id": "4ff64448-ea90-438b-83c1-10e42e51747e",
   "metadata": {},
   "outputs": [
    {
     "data": {
      "text/plain": [
       "0         2505\n",
       "1         2505\n",
       "2         2505\n",
       "3         2505\n",
       "4         2505\n",
       "          ... \n",
       "222859     702\n",
       "222860    1315\n",
       "222861     200\n",
       "222862     751\n",
       "222863      77\n",
       "Name: Address, Length: 222864, dtype: object"
      ]
     },
     "execution_count": 170,
     "metadata": {},
     "output_type": "execute_result"
    }
   ],
   "source": [
    "x[\"Address\"]=x[\"Address\"].apply(lambda i:i.split(\" \")[0])\n",
    "x[\"Address\"]\n",
    "                                "
   ]
  },
  {
   "cell_type": "code",
   "execution_count": 171,
   "id": "9707f611-4d38-4655-8c2b-6bc10244ef75",
   "metadata": {},
   "outputs": [
    {
     "data": {
      "text/plain": [
       "0         2505\n",
       "1         2505\n",
       "2         2505\n",
       "3         2505\n",
       "4         2505\n",
       "          ... \n",
       "222859     702\n",
       "222860    1315\n",
       "222861     200\n",
       "222862     751\n",
       "222863      77\n",
       "Name: Address, Length: 222864, dtype: object"
      ]
     },
     "execution_count": 171,
     "metadata": {},
     "output_type": "execute_result"
    }
   ],
   "source": [
    "x[\"Address\"]=x[\"Address\"].apply(lambda i:i.replace(\"ONE\",\"1\"))\n",
    "x[\"Address\"]\n",
    "                                "
   ]
  },
  {
   "cell_type": "code",
   "execution_count": 172,
   "id": "5495b6fa-4c06-433e-bfbd-d942a77fb9f1",
   "metadata": {},
   "outputs": [
    {
     "data": {
      "text/plain": [
       "0         2505\n",
       "1         2505\n",
       "2         2505\n",
       "3         2505\n",
       "4         2505\n",
       "          ... \n",
       "222859     702\n",
       "222860    1315\n",
       "222861     200\n",
       "222862     751\n",
       "222863      77\n",
       "Name: Address, Length: 222864, dtype: object"
      ]
     },
     "execution_count": 172,
     "metadata": {},
     "output_type": "execute_result"
    }
   ],
   "source": [
    "x[\"Address\"]=x[\"Address\"].apply(lambda i:i.replace(\"BOX\",\"1\"))\n",
    "x[\"Address\"]\n",
    "               "
   ]
  },
  {
   "cell_type": "code",
   "execution_count": 173,
   "id": "e927673c-a5db-4e56-b5b7-d8103bd999a9",
   "metadata": {},
   "outputs": [
    {
     "data": {
      "text/plain": [
       "0         2505\n",
       "1         2505\n",
       "2         2505\n",
       "3         2505\n",
       "4         2505\n",
       "          ... \n",
       "222859     702\n",
       "222860    1315\n",
       "222861     200\n",
       "222862     751\n",
       "222863      77\n",
       "Name: Address, Length: 222864, dtype: object"
      ]
     },
     "execution_count": 173,
     "metadata": {},
     "output_type": "execute_result"
    }
   ],
   "source": [
    "x[\"Address\"]=x[\"Address\"].apply(lambda i:i.replace(\"PO\",\"1\"))\n",
    "x[\"Address\"]\n",
    "               "
   ]
  },
  {
   "cell_type": "code",
   "execution_count": 174,
   "id": "bad3a211-7f25-4905-8c98-cc3e9a6015ce",
   "metadata": {},
   "outputs": [
    {
     "data": {
      "text/plain": [
       "0         2505\n",
       "1         2505\n",
       "2         2505\n",
       "3         2505\n",
       "4         2505\n",
       "          ... \n",
       "222859     702\n",
       "222860    1315\n",
       "222861     200\n",
       "222862     751\n",
       "222863      77\n",
       "Name: Address, Length: 222864, dtype: object"
      ]
     },
     "execution_count": 174,
     "metadata": {},
     "output_type": "execute_result"
    }
   ],
   "source": [
    "x[\"Address\"]=x[\"Address\"].apply(lambda i:i.replace(\"P\",\"1\"))\n",
    "x[\"Address\"]\n",
    "               "
   ]
  },
  {
   "cell_type": "code",
   "execution_count": 175,
   "id": "b371016d-f243-4f58-97b8-9280ed045984",
   "metadata": {},
   "outputs": [
    {
     "data": {
      "text/plain": [
       "0         121510151\n",
       "1         121510151\n",
       "2         121510151\n",
       "3         121510151\n",
       "4         121510151\n",
       "            ...    \n",
       "222859      1710121\n",
       "222860    111311151\n",
       "222861      1210101\n",
       "222862      1715111\n",
       "222863        17171\n",
       "Name: Address, Length: 222864, dtype: object"
      ]
     },
     "execution_count": 175,
     "metadata": {},
     "output_type": "execute_result"
    }
   ],
   "source": [
    "x[\"Address\"]=x[\"Address\"].apply(lambda i:i.replace('',\"1\"))\n",
    "x[\"Address\"]\n",
    "               "
   ]
  },
  {
   "cell_type": "code",
   "execution_count": 176,
   "id": "a91b6e8b-5636-4aa2-9bce-b58fcd4bef2c",
   "metadata": {},
   "outputs": [
    {
     "data": {
      "text/plain": [
       "0         121510151\n",
       "1         121510151\n",
       "2         121510151\n",
       "3         121510151\n",
       "4         121510151\n",
       "            ...    \n",
       "222859      1710121\n",
       "222860    111311151\n",
       "222861      1210101\n",
       "222862      1715111\n",
       "222863        17171\n",
       "Name: Address, Length: 222864, dtype: object"
      ]
     },
     "execution_count": 176,
     "metadata": {},
     "output_type": "execute_result"
    }
   ],
   "source": [
    "x[\"Address\"]=x[\"Address\"].apply(lambda i:i.replace(\"1U1S1\",\"1\"))\n",
    "x[\"Address\"]\n",
    "               "
   ]
  },
  {
   "cell_type": "code",
   "execution_count": 177,
   "id": "e50389a2-3c23-4f4c-9cef-e1d88d15f091",
   "metadata": {},
   "outputs": [
    {
     "data": {
      "text/plain": [
       "0         121510151\n",
       "1         121510151\n",
       "2         121510151\n",
       "3         121510151\n",
       "4         121510151\n",
       "            ...    \n",
       "222859      1710121\n",
       "222860    111311151\n",
       "222861      1210101\n",
       "222862      1715111\n",
       "222863        17171\n",
       "Name: Address, Length: 222864, dtype: object"
      ]
     },
     "execution_count": 177,
     "metadata": {},
     "output_type": "execute_result"
    }
   ],
   "source": [
    "x[\"Address\"]=x[\"Address\"].apply(lambda i:i.replace(\"1T1W1O1\",\"1\"))\n",
    "x[\"Address\"]\n",
    "               "
   ]
  },
  {
   "cell_type": "code",
   "execution_count": 178,
   "id": "a64a9040-002a-4e1d-936e-d1516bb3246b",
   "metadata": {},
   "outputs": [
    {
     "data": {
      "text/plain": [
       "0         121510151\n",
       "1         121510151\n",
       "2         121510151\n",
       "3         121510151\n",
       "4         121510151\n",
       "            ...    \n",
       "222859      1710121\n",
       "222860    111311151\n",
       "222861      1210101\n",
       "222862      1715111\n",
       "222863        17171\n",
       "Name: Address, Length: 222864, dtype: object"
      ]
     },
     "execution_count": 178,
     "metadata": {},
     "output_type": "execute_result"
    }
   ],
   "source": [
    "x[\"Address\"]=x[\"Address\"].apply(lambda i:i.replace(\"1H1I1G1H1W1A1Y1\",\"1\"))\n",
    "x[\"Address\"]\n",
    "               "
   ]
  },
  {
   "cell_type": "code",
   "execution_count": 179,
   "id": "67560087-c1eb-41d8-9a0a-8f9f8fce2dfa",
   "metadata": {},
   "outputs": [
    {
     "data": {
      "text/plain": [
       "1799"
      ]
     },
     "execution_count": 179,
     "metadata": {},
     "output_type": "execute_result"
    }
   ],
   "source": [
    "x[\"Address\"].nunique()"
   ]
  },
  {
   "cell_type": "code",
   "execution_count": 180,
   "id": "2e8c8d27-4030-4f43-bb0e-a78d39b540aa",
   "metadata": {},
   "outputs": [
    {
     "data": {
      "text/html": [
       "<div>\n",
       "<style scoped>\n",
       "    .dataframe tbody tr th:only-of-type {\n",
       "        vertical-align: middle;\n",
       "    }\n",
       "\n",
       "    .dataframe tbody tr th {\n",
       "        vertical-align: top;\n",
       "    }\n",
       "\n",
       "    .dataframe thead th {\n",
       "        text-align: right;\n",
       "    }\n",
       "</style>\n",
       "<table border=\"1\" class=\"dataframe\">\n",
       "  <thead>\n",
       "    <tr style=\"text-align: right;\">\n",
       "      <th></th>\n",
       "      <th>Provider ID</th>\n",
       "      <th>Hospital Name</th>\n",
       "      <th>Address</th>\n",
       "      <th>City</th>\n",
       "      <th>State</th>\n",
       "      <th>ZIP Code</th>\n",
       "      <th>County Name</th>\n",
       "      <th>Phone Number</th>\n",
       "      <th>Measure Name</th>\n",
       "      <th>Measure ID</th>\n",
       "      <th>Compared to National</th>\n",
       "      <th>Score</th>\n",
       "      <th>Measure Start Date</th>\n",
       "      <th>Measure End Date</th>\n",
       "      <th>Location</th>\n",
       "    </tr>\n",
       "  </thead>\n",
       "  <tbody>\n",
       "    <tr>\n",
       "      <th>0</th>\n",
       "      <td>10005</td>\n",
       "      <td>MARSHALL</td>\n",
       "      <td>121510151</td>\n",
       "      <td>BOAZ</td>\n",
       "      <td>AL</td>\n",
       "      <td>35957</td>\n",
       "      <td>MARSHALL</td>\n",
       "      <td>2565938310</td>\n",
       "      <td>CLABSI: Lower Confidence Limit</td>\n",
       "      <td>HAI_1_CI_LOWER</td>\n",
       "      <td>No Different than National Benchmark</td>\n",
       "      <td>0.165</td>\n",
       "      <td>01/01/2015</td>\n",
       "      <td>06/30/2015</td>\n",
       "      <td>2505 U S HIGHWAY 431 NORTH\\nBOAZ, AL 35957\\n</td>\n",
       "    </tr>\n",
       "    <tr>\n",
       "      <th>1</th>\n",
       "      <td>10005</td>\n",
       "      <td>MARSHALL</td>\n",
       "      <td>121510151</td>\n",
       "      <td>BOAZ</td>\n",
       "      <td>AL</td>\n",
       "      <td>35957</td>\n",
       "      <td>MARSHALL</td>\n",
       "      <td>2565938310</td>\n",
       "      <td>CLABSI: Upper Confidence Limit</td>\n",
       "      <td>HAI_1_CI_UPPER</td>\n",
       "      <td>No Different than National Benchmark</td>\n",
       "      <td>3.249</td>\n",
       "      <td>01/01/2015</td>\n",
       "      <td>06/30/2015</td>\n",
       "      <td>2505 U S HIGHWAY 431 NORTH\\nBOAZ, AL 35957\\n</td>\n",
       "    </tr>\n",
       "    <tr>\n",
       "      <th>2</th>\n",
       "      <td>10005</td>\n",
       "      <td>MARSHALL</td>\n",
       "      <td>121510151</td>\n",
       "      <td>BOAZ</td>\n",
       "      <td>AL</td>\n",
       "      <td>35957</td>\n",
       "      <td>MARSHALL</td>\n",
       "      <td>2565938310</td>\n",
       "      <td>CLABSI: Number of Procedures</td>\n",
       "      <td>HAI_1_DOPC_DAYS</td>\n",
       "      <td>No Different than National Benchmark</td>\n",
       "      <td>1485</td>\n",
       "      <td>01/01/2015</td>\n",
       "      <td>06/30/2015</td>\n",
       "      <td>2505 U S HIGHWAY 431 NORTH\\nBOAZ, AL 35957\\n</td>\n",
       "    </tr>\n",
       "    <tr>\n",
       "      <th>3</th>\n",
       "      <td>10005</td>\n",
       "      <td>MARSHALL</td>\n",
       "      <td>121510151</td>\n",
       "      <td>BOAZ</td>\n",
       "      <td>AL</td>\n",
       "      <td>35957</td>\n",
       "      <td>MARSHALL</td>\n",
       "      <td>2565938310</td>\n",
       "      <td>CLABSI: Predicted Cases</td>\n",
       "      <td>HAI_1_ELIGCASES</td>\n",
       "      <td>No Different than National Benchmark</td>\n",
       "      <td>2.034</td>\n",
       "      <td>01/01/2015</td>\n",
       "      <td>06/30/2015</td>\n",
       "      <td>2505 U S HIGHWAY 431 NORTH\\nBOAZ, AL 35957\\n</td>\n",
       "    </tr>\n",
       "    <tr>\n",
       "      <th>4</th>\n",
       "      <td>10005</td>\n",
       "      <td>MARSHALL</td>\n",
       "      <td>121510151</td>\n",
       "      <td>BOAZ</td>\n",
       "      <td>AL</td>\n",
       "      <td>35957</td>\n",
       "      <td>MARSHALL</td>\n",
       "      <td>2565938310</td>\n",
       "      <td>CLABSI: Observed Cases</td>\n",
       "      <td>HAI_1_NUMERATOR</td>\n",
       "      <td>No Different than National Benchmark</td>\n",
       "      <td>2</td>\n",
       "      <td>01/01/2015</td>\n",
       "      <td>06/30/2015</td>\n",
       "      <td>2505 U S HIGHWAY 431 NORTH\\nBOAZ, AL 35957\\n</td>\n",
       "    </tr>\n",
       "    <tr>\n",
       "      <th>...</th>\n",
       "      <td>...</td>\n",
       "      <td>...</td>\n",
       "      <td>...</td>\n",
       "      <td>...</td>\n",
       "      <td>...</td>\n",
       "      <td>...</td>\n",
       "      <td>...</td>\n",
       "      <td>...</td>\n",
       "      <td>...</td>\n",
       "      <td>...</td>\n",
       "      <td>...</td>\n",
       "      <td>...</td>\n",
       "      <td>...</td>\n",
       "      <td>...</td>\n",
       "      <td>...</td>\n",
       "    </tr>\n",
       "    <tr>\n",
       "      <th>222859</th>\n",
       "      <td>351325</td>\n",
       "      <td>ST</td>\n",
       "      <td>1710121</td>\n",
       "      <td>CROSBY</td>\n",
       "      <td>ND</td>\n",
       "      <td>58730</td>\n",
       "      <td>DIVIDE</td>\n",
       "      <td>7019656384</td>\n",
       "      <td>CAUTI: Observed Cases</td>\n",
       "      <td>HAI_2_NUMERATOR</td>\n",
       "      <td>Not Available</td>\n",
       "      <td>Not Available</td>\n",
       "      <td>01/01/2015</td>\n",
       "      <td>06/30/2015</td>\n",
       "      <td>702 1ST ST SW\\nCROSBY, ND 58730\\n(48.906708, -...</td>\n",
       "    </tr>\n",
       "    <tr>\n",
       "      <th>222860</th>\n",
       "      <td>471303</td>\n",
       "      <td>NORTHEASTERN</td>\n",
       "      <td>111311151</td>\n",
       "      <td>SAINT JOHNSBURY</td>\n",
       "      <td>VT</td>\n",
       "      <td>5819</td>\n",
       "      <td>CALEDONIA</td>\n",
       "      <td>8027487400</td>\n",
       "      <td>C.diff Lower Confidence Limit</td>\n",
       "      <td>HAI_6_CI_LOWER</td>\n",
       "      <td>Not Available</td>\n",
       "      <td>Not Available</td>\n",
       "      <td>07/01/2014</td>\n",
       "      <td>06/30/2015</td>\n",
       "      <td>1315 HOSPITAL DRIVE\\nSAINT JOHNSBURY, VT 05819...</td>\n",
       "    </tr>\n",
       "    <tr>\n",
       "      <th>222861</th>\n",
       "      <td>150026</td>\n",
       "      <td>IU</td>\n",
       "      <td>1210101</td>\n",
       "      <td>GOSHEN</td>\n",
       "      <td>IN</td>\n",
       "      <td>46526</td>\n",
       "      <td>ELKHART</td>\n",
       "      <td>5743641000</td>\n",
       "      <td>CLABSI: Number of Procedures</td>\n",
       "      <td>HAI_1_DOPC_DAYS</td>\n",
       "      <td>No Different than National Benchmark</td>\n",
       "      <td>1416</td>\n",
       "      <td>01/01/2015</td>\n",
       "      <td>06/30/2015</td>\n",
       "      <td>200 HIGH PARK AVE\\nGOSHEN, IN 46526\\n(41.56432...</td>\n",
       "    </tr>\n",
       "    <tr>\n",
       "      <th>222862</th>\n",
       "      <td>50038</td>\n",
       "      <td>SANTA</td>\n",
       "      <td>1715111</td>\n",
       "      <td>SAN JOSE</td>\n",
       "      <td>CA</td>\n",
       "      <td>95128</td>\n",
       "      <td>SANTA CLARA</td>\n",
       "      <td>4088855000</td>\n",
       "      <td>SSI: Colon Predicted Cases</td>\n",
       "      <td>HAI_3_ELIGCASES</td>\n",
       "      <td>Worse than the National Benchmark</td>\n",
       "      <td>3.246</td>\n",
       "      <td>07/01/2014</td>\n",
       "      <td>06/30/2015</td>\n",
       "      <td>751 SOUTH BASCOM AVENUE\\nSAN JOSE, CA 95128\\n(...</td>\n",
       "    </tr>\n",
       "    <tr>\n",
       "      <th>222863</th>\n",
       "      <td>140217</td>\n",
       "      <td>PRESENCE</td>\n",
       "      <td>17171</td>\n",
       "      <td>ELGIN</td>\n",
       "      <td>IL</td>\n",
       "      <td>60123</td>\n",
       "      <td>KANE</td>\n",
       "      <td>8476953200</td>\n",
       "      <td>MRSA Lower Confidence Limit</td>\n",
       "      <td>HAI_5_CI_LOWER</td>\n",
       "      <td>No Different than National Benchmark</td>\n",
       "      <td>0.219</td>\n",
       "      <td>07/01/2014</td>\n",
       "      <td>06/30/2015</td>\n",
       "      <td>77 N AIRLITE STREET\\nELGIN, IL 60123\\n(42.0362...</td>\n",
       "    </tr>\n",
       "  </tbody>\n",
       "</table>\n",
       "<p>222864 rows × 15 columns</p>\n",
       "</div>"
      ],
      "text/plain": [
       "        Provider ID Hospital Name    Address             City State  ZIP Code  \\\n",
       "0             10005      MARSHALL  121510151             BOAZ    AL     35957   \n",
       "1             10005      MARSHALL  121510151             BOAZ    AL     35957   \n",
       "2             10005      MARSHALL  121510151             BOAZ    AL     35957   \n",
       "3             10005      MARSHALL  121510151             BOAZ    AL     35957   \n",
       "4             10005      MARSHALL  121510151             BOAZ    AL     35957   \n",
       "...             ...           ...        ...              ...   ...       ...   \n",
       "222859       351325            ST    1710121           CROSBY    ND     58730   \n",
       "222860       471303  NORTHEASTERN  111311151  SAINT JOHNSBURY    VT      5819   \n",
       "222861       150026            IU    1210101           GOSHEN    IN     46526   \n",
       "222862        50038         SANTA    1715111         SAN JOSE    CA     95128   \n",
       "222863       140217      PRESENCE      17171            ELGIN    IL     60123   \n",
       "\n",
       "        County Name  Phone Number                    Measure Name  \\\n",
       "0          MARSHALL    2565938310  CLABSI: Lower Confidence Limit   \n",
       "1          MARSHALL    2565938310  CLABSI: Upper Confidence Limit   \n",
       "2          MARSHALL    2565938310    CLABSI: Number of Procedures   \n",
       "3          MARSHALL    2565938310         CLABSI: Predicted Cases   \n",
       "4          MARSHALL    2565938310          CLABSI: Observed Cases   \n",
       "...             ...           ...                             ...   \n",
       "222859       DIVIDE    7019656384           CAUTI: Observed Cases   \n",
       "222860    CALEDONIA    8027487400   C.diff Lower Confidence Limit   \n",
       "222861      ELKHART    5743641000    CLABSI: Number of Procedures   \n",
       "222862  SANTA CLARA    4088855000      SSI: Colon Predicted Cases   \n",
       "222863         KANE    8476953200     MRSA Lower Confidence Limit   \n",
       "\n",
       "             Measure ID                  Compared to National          Score  \\\n",
       "0        HAI_1_CI_LOWER  No Different than National Benchmark          0.165   \n",
       "1        HAI_1_CI_UPPER  No Different than National Benchmark          3.249   \n",
       "2       HAI_1_DOPC_DAYS  No Different than National Benchmark           1485   \n",
       "3       HAI_1_ELIGCASES  No Different than National Benchmark          2.034   \n",
       "4       HAI_1_NUMERATOR  No Different than National Benchmark              2   \n",
       "...                 ...                                   ...            ...   \n",
       "222859  HAI_2_NUMERATOR                         Not Available  Not Available   \n",
       "222860   HAI_6_CI_LOWER                         Not Available  Not Available   \n",
       "222861  HAI_1_DOPC_DAYS  No Different than National Benchmark           1416   \n",
       "222862  HAI_3_ELIGCASES     Worse than the National Benchmark          3.246   \n",
       "222863   HAI_5_CI_LOWER  No Different than National Benchmark          0.219   \n",
       "\n",
       "       Measure Start Date Measure End Date  \\\n",
       "0              01/01/2015       06/30/2015   \n",
       "1              01/01/2015       06/30/2015   \n",
       "2              01/01/2015       06/30/2015   \n",
       "3              01/01/2015       06/30/2015   \n",
       "4              01/01/2015       06/30/2015   \n",
       "...                   ...              ...   \n",
       "222859         01/01/2015       06/30/2015   \n",
       "222860         07/01/2014       06/30/2015   \n",
       "222861         01/01/2015       06/30/2015   \n",
       "222862         07/01/2014       06/30/2015   \n",
       "222863         07/01/2014       06/30/2015   \n",
       "\n",
       "                                                 Location  \n",
       "0            2505 U S HIGHWAY 431 NORTH\\nBOAZ, AL 35957\\n  \n",
       "1            2505 U S HIGHWAY 431 NORTH\\nBOAZ, AL 35957\\n  \n",
       "2            2505 U S HIGHWAY 431 NORTH\\nBOAZ, AL 35957\\n  \n",
       "3            2505 U S HIGHWAY 431 NORTH\\nBOAZ, AL 35957\\n  \n",
       "4            2505 U S HIGHWAY 431 NORTH\\nBOAZ, AL 35957\\n  \n",
       "...                                                   ...  \n",
       "222859  702 1ST ST SW\\nCROSBY, ND 58730\\n(48.906708, -...  \n",
       "222860  1315 HOSPITAL DRIVE\\nSAINT JOHNSBURY, VT 05819...  \n",
       "222861  200 HIGH PARK AVE\\nGOSHEN, IN 46526\\n(41.56432...  \n",
       "222862  751 SOUTH BASCOM AVENUE\\nSAN JOSE, CA 95128\\n(...  \n",
       "222863  77 N AIRLITE STREET\\nELGIN, IL 60123\\n(42.0362...  \n",
       "\n",
       "[222864 rows x 15 columns]"
      ]
     },
     "execution_count": 180,
     "metadata": {},
     "output_type": "execute_result"
    }
   ],
   "source": [
    "x"
   ]
  },
  {
   "cell_type": "code",
   "execution_count": 181,
   "id": "79b51e28-b308-42af-9839-7104439f1935",
   "metadata": {},
   "outputs": [
    {
     "data": {
      "text/plain": [
       "array(['BOAZ', 'FORT PAYNE', 'WEDOWEE', ..., 'ALBIA', 'RIVERDALE',\n",
       "       'KENNEWICK'], dtype=object)"
      ]
     },
     "execution_count": 181,
     "metadata": {},
     "output_type": "execute_result"
    }
   ],
   "source": [
    "x[\"City\"].unique()"
   ]
  },
  {
   "cell_type": "code",
   "execution_count": 182,
   "id": "c7276441-3709-49c6-b585-45b2c69bfbd0",
   "metadata": {},
   "outputs": [
    {
     "data": {
      "text/plain": [
       "2880"
      ]
     },
     "execution_count": 182,
     "metadata": {},
     "output_type": "execute_result"
    }
   ],
   "source": [
    "x[\"City\"].nunique()"
   ]
  },
  {
   "cell_type": "code",
   "execution_count": 183,
   "id": "c0c8569b-4f11-41db-becd-651d9328f264",
   "metadata": {},
   "outputs": [
    {
     "data": {
      "text/plain": [
       "0           BOAZ\n",
       "1           BOAZ\n",
       "2           BOAZ\n",
       "3           BOAZ\n",
       "4           BOAZ\n",
       "           ...  \n",
       "222859    CROSBY\n",
       "222860     SAINT\n",
       "222861    GOSHEN\n",
       "222862       SAN\n",
       "222863     ELGIN\n",
       "Name: City, Length: 222864, dtype: object"
      ]
     },
     "execution_count": 183,
     "metadata": {},
     "output_type": "execute_result"
    }
   ],
   "source": [
    "x[\"City\"]=x[\"City\"].apply(lambda i:i.split(\" \")[0])\n",
    "x[\"City\"]"
   ]
  },
  {
   "cell_type": "code",
   "execution_count": 184,
   "id": "591c1dea-73c9-4d97-9eca-12699f275117",
   "metadata": {},
   "outputs": [
    {
     "data": {
      "text/plain": [
       "array(['AL', 'AK', 'AZ', 'AR', 'CA', 'CO', 'CT', 'DE', 'FL', 'GA', 'HI',\n",
       "       'ID', 'IL', 'IN', 'IA', 'NE', 'KS', 'KY', 'LA', 'ME', 'MA', 'MI',\n",
       "       'MN', 'MS', 'MO', 'MT', 'NV', 'NH', 'NJ', 'NM', 'NY', 'NC', 'ND',\n",
       "       'OH', 'OK', 'OR', 'PA', 'PR', 'RI', 'SC', 'SD', 'TN', 'TX', 'UT',\n",
       "       'VT', 'VA', 'VI', 'WA', 'WV', 'WI', 'WY', 'GU', 'MP', 'MD', 'DC'],\n",
       "      dtype=object)"
      ]
     },
     "execution_count": 184,
     "metadata": {},
     "output_type": "execute_result"
    }
   ],
   "source": [
    "x[\"State\"].unique()"
   ]
  },
  {
   "cell_type": "code",
   "execution_count": 185,
   "id": "14c33b49-96c5-4e21-856f-4f7725537cc5",
   "metadata": {},
   "outputs": [
    {
     "data": {
      "text/plain": [
       "55"
      ]
     },
     "execution_count": 185,
     "metadata": {},
     "output_type": "execute_result"
    }
   ],
   "source": [
    "x[\"State\"].nunique()"
   ]
  },
  {
   "cell_type": "code",
   "execution_count": 186,
   "id": "e1c45a1a-d827-4681-8161-937192d284b4",
   "metadata": {},
   "outputs": [
    {
     "data": {
      "text/plain": [
       "array([35957, 35968, 36278, ..., 46222, 30274, 99336], dtype=int64)"
      ]
     },
     "execution_count": 186,
     "metadata": {},
     "output_type": "execute_result"
    }
   ],
   "source": [
    "x[\"ZIP Code\"].unique()"
   ]
  },
  {
   "cell_type": "code",
   "execution_count": 187,
   "id": "574663e1-b6f9-41f6-bd46-d323eb121be7",
   "metadata": {},
   "outputs": [
    {
     "data": {
      "text/plain": [
       "4299"
      ]
     },
     "execution_count": 187,
     "metadata": {},
     "output_type": "execute_result"
    }
   ],
   "source": [
    "x[\"ZIP Code\"].nunique()"
   ]
  },
  {
   "cell_type": "code",
   "execution_count": 188,
   "id": "caae2703-9187-4aa4-8bef-90b7261e6db3",
   "metadata": {},
   "outputs": [
    {
     "data": {
      "text/plain": [
       "1530"
      ]
     },
     "execution_count": 188,
     "metadata": {},
     "output_type": "execute_result"
    }
   ],
   "source": [
    "x[\"County Name\"].nunique()"
   ]
  },
  {
   "cell_type": "code",
   "execution_count": 189,
   "id": "3e5f120b-8105-45a9-8e27-e10d34e58b39",
   "metadata": {},
   "outputs": [
    {
     "data": {
      "text/plain": [
       "array(['MARSHALL', 'DE KALB', 'RANDOLPH', ..., 'BLACKFORD',\n",
       "       'EAST CARROLL', 'LAKE OF THE WOODS'], dtype=object)"
      ]
     },
     "execution_count": 189,
     "metadata": {},
     "output_type": "execute_result"
    }
   ],
   "source": [
    "x[\"County Name\"].unique()"
   ]
  },
  {
   "cell_type": "code",
   "execution_count": 190,
   "id": "b9910346-f999-4508-b36e-8b685744373f",
   "metadata": {},
   "outputs": [
    {
     "data": {
      "text/plain": [
       "0          MARSHALL\n",
       "1          MARSHALL\n",
       "2          MARSHALL\n",
       "3          MARSHALL\n",
       "4          MARSHALL\n",
       "            ...    \n",
       "222859       DIVIDE\n",
       "222860    CALEDONIA\n",
       "222861      ELKHART\n",
       "222862        SANTA\n",
       "222863         KANE\n",
       "Name: County Name, Length: 222864, dtype: object"
      ]
     },
     "execution_count": 190,
     "metadata": {},
     "output_type": "execute_result"
    }
   ],
   "source": [
    "x[\"County Name\"]=x[\"County Name\"].apply(lambda i:i.split(\" \")[0])\n",
    "x[\"County Name\"]"
   ]
  },
  {
   "cell_type": "code",
   "execution_count": 191,
   "id": "5d922102-e22c-4849-a4ec-5c105d31b4d4",
   "metadata": {},
   "outputs": [
    {
     "data": {
      "text/plain": [
       "array([2565938310, 2568453150, 2563572111, ..., 7709918160, 5095866111,\n",
       "       9183076000], dtype=int64)"
      ]
     },
     "execution_count": 191,
     "metadata": {},
     "output_type": "execute_result"
    }
   ],
   "source": [
    "x[\"Phone Number\"].unique()"
   ]
  },
  {
   "cell_type": "code",
   "execution_count": 192,
   "id": "f9c3b233-2154-44f6-aba8-9e96f7286c7e",
   "metadata": {},
   "outputs": [
    {
     "data": {
      "text/plain": [
       "4631"
      ]
     },
     "execution_count": 192,
     "metadata": {},
     "output_type": "execute_result"
    }
   ],
   "source": [
    "x[\"Phone Number\"].nunique()"
   ]
  },
  {
   "cell_type": "code",
   "execution_count": 193,
   "id": "35d76555-930e-4887-aa5c-c380450d761b",
   "metadata": {},
   "outputs": [
    {
     "data": {
      "text/plain": [
       "48"
      ]
     },
     "execution_count": 193,
     "metadata": {},
     "output_type": "execute_result"
    }
   ],
   "source": [
    "x[\"Measure Name\"].nunique()"
   ]
  },
  {
   "cell_type": "code",
   "execution_count": 194,
   "id": "c7a30cd1-fb87-4588-9bc3-11279e30a24b",
   "metadata": {},
   "outputs": [
    {
     "data": {
      "text/plain": [
       "48"
      ]
     },
     "execution_count": 194,
     "metadata": {},
     "output_type": "execute_result"
    }
   ],
   "source": [
    "x[\"Measure Name\"].nunique()"
   ]
  },
  {
   "cell_type": "code",
   "execution_count": 195,
   "id": "b83f7f03-ceaf-4299-bcbe-bfdba970711f",
   "metadata": {},
   "outputs": [
    {
     "data": {
      "text/plain": [
       "0         CLABSI:\n",
       "1         CLABSI:\n",
       "2         CLABSI:\n",
       "3         CLABSI:\n",
       "4         CLABSI:\n",
       "           ...   \n",
       "222859     CAUTI:\n",
       "222860     C.diff\n",
       "222861    CLABSI:\n",
       "222862       SSI:\n",
       "222863       MRSA\n",
       "Name: Measure Name, Length: 222864, dtype: object"
      ]
     },
     "execution_count": 195,
     "metadata": {},
     "output_type": "execute_result"
    }
   ],
   "source": [
    "x[\"Measure Name\"]=x[\"Measure Name\"].apply(lambda i:i.split(\" \")[0])\n",
    "x[\"Measure Name\"]"
   ]
  },
  {
   "cell_type": "code",
   "execution_count": 196,
   "id": "28ad05e4-3c0a-408e-9259-30ba008b03ed",
   "metadata": {},
   "outputs": [
    {
     "data": {
      "text/plain": [
       "0         CLABSI\n",
       "1         CLABSI\n",
       "2         CLABSI\n",
       "3         CLABSI\n",
       "4         CLABSI\n",
       "           ...  \n",
       "222859     CAUTI\n",
       "222860    C.diff\n",
       "222861    CLABSI\n",
       "222862       SSI\n",
       "222863      MRSA\n",
       "Name: Measure Name, Length: 222864, dtype: object"
      ]
     },
     "execution_count": 196,
     "metadata": {},
     "output_type": "execute_result"
    }
   ],
   "source": [
    "x[\"Measure Name\"]=x[\"Measure Name\"].apply(lambda i:i.split(\":\")[0])\n",
    "x[\"Measure Name\"]"
   ]
  },
  {
   "cell_type": "code",
   "execution_count": 197,
   "id": "cb2e8199-ef20-4b01-8fad-34021c0f1bfb",
   "metadata": {},
   "outputs": [
    {
     "data": {
      "text/plain": [
       "array(['HAI_1_CI_LOWER', 'HAI_1_CI_UPPER', 'HAI_1_DOPC_DAYS',\n",
       "       'HAI_1_ELIGCASES', 'HAI_1_NUMERATOR', 'HAI_1_SIR',\n",
       "       'HAI_1a_CI_LOWER', 'HAI_1a_CI_UPPER', 'HAI_1a_DOPC_DAYS',\n",
       "       'HAI_1a_ELIGCASES', 'HAI_1a_NUMERATOR', 'HAI_1a_SIR',\n",
       "       'HAI_2_CI_LOWER', 'HAI_2_CI_UPPER', 'HAI_2_DOPC_DAYS',\n",
       "       'HAI_2_ELIGCASES', 'HAI_2_NUMERATOR', 'HAI_2_SIR',\n",
       "       'HAI_2a_CI_LOWER', 'HAI_2a_CI_UPPER', 'HAI_2a_DOPC_DAYS',\n",
       "       'HAI_2a_ELIGCASES', 'HAI_2a_NUMERATOR', 'HAI_2a_SIR',\n",
       "       'HAI_3_CI_LOWER', 'HAI_3_CI_UPPER', 'HAI_6_DOPC_DAYS',\n",
       "       'HAI_3_DOPC_DAYS', 'HAI_3_ELIGCASES', 'HAI_3_NUMERATOR',\n",
       "       'HAI_3_SIR', 'HAI_4_CI_LOWER', 'HAI_4_CI_UPPER', 'HAI_4_DOPC_DAYS',\n",
       "       'HAI_4_ELIGCASES', 'HAI_4_NUMERATOR', 'HAI_4_SIR',\n",
       "       'HAI_5_CI_LOWER', 'HAI_5_CI_UPPER', 'HAI_5_DOPC_DAYS',\n",
       "       'HAI_5_ELIGCASES', 'HAI_5_NUMERATOR', 'HAI_5_SIR',\n",
       "       'HAI_6_CI_LOWER', 'HAI_6_CI_UPPER', 'HAI_6_ELIGCASES',\n",
       "       'HAI_6_NUMERATOR', 'HAI_6_SIR'], dtype=object)"
      ]
     },
     "execution_count": 197,
     "metadata": {},
     "output_type": "execute_result"
    }
   ],
   "source": [
    "x[\"Measure ID\"].unique()"
   ]
  },
  {
   "cell_type": "code",
   "execution_count": 198,
   "id": "7c0405ea-4bb8-4566-89e2-05db5f5061a5",
   "metadata": {},
   "outputs": [
    {
     "data": {
      "text/plain": [
       "48"
      ]
     },
     "execution_count": 198,
     "metadata": {},
     "output_type": "execute_result"
    }
   ],
   "source": [
    "x[\"Measure ID\"].nunique()"
   ]
  },
  {
   "cell_type": "code",
   "execution_count": 199,
   "id": "f1ecb9e0-ec3a-42bd-ab27-96df35977f0c",
   "metadata": {},
   "outputs": [
    {
     "data": {
      "text/plain": [
       "0         HAI\n",
       "1         HAI\n",
       "2         HAI\n",
       "3         HAI\n",
       "4         HAI\n",
       "         ... \n",
       "222859    HAI\n",
       "222860    HAI\n",
       "222861    HAI\n",
       "222862    HAI\n",
       "222863    HAI\n",
       "Name: Measure ID, Length: 222864, dtype: object"
      ]
     },
     "execution_count": 199,
     "metadata": {},
     "output_type": "execute_result"
    }
   ],
   "source": [
    "x[\"Measure ID\"]=x[\"Measure ID\"].apply(lambda i:i.split(\"_\")[0])\n",
    "x[\"Measure ID\"]"
   ]
  },
  {
   "cell_type": "code",
   "execution_count": 200,
   "id": "3a595fd0-3cfa-4943-851a-55b9689779b3",
   "metadata": {},
   "outputs": [
    {
     "data": {
      "text/plain": [
       "array(['No Different than National Benchmark',\n",
       "       'Worse than the National Benchmark',\n",
       "       'Better than the National Benchmark', 'Not Available'],\n",
       "      dtype=object)"
      ]
     },
     "execution_count": 200,
     "metadata": {},
     "output_type": "execute_result"
    }
   ],
   "source": [
    "x[\"Compared to National\"].unique()"
   ]
  },
  {
   "cell_type": "code",
   "execution_count": 201,
   "id": "8a55f60e-e7e8-403e-9580-b1f8a70878ba",
   "metadata": {},
   "outputs": [
    {
     "data": {
      "text/plain": [
       "4"
      ]
     },
     "execution_count": 201,
     "metadata": {},
     "output_type": "execute_result"
    }
   ],
   "source": [
    "x[\"Compared to National\"].nunique()"
   ]
  },
  {
   "cell_type": "code",
   "execution_count": 202,
   "id": "fdd7cad4-5ee1-48d7-b72f-96d6125efcd3",
   "metadata": {},
   "outputs": [
    {
     "data": {
      "text/plain": [
       "0            No\n",
       "1            No\n",
       "2            No\n",
       "3            No\n",
       "4            No\n",
       "          ...  \n",
       "222859      Not\n",
       "222860      Not\n",
       "222861       No\n",
       "222862    Worse\n",
       "222863       No\n",
       "Name: Compared to National, Length: 222864, dtype: object"
      ]
     },
     "execution_count": 202,
     "metadata": {},
     "output_type": "execute_result"
    }
   ],
   "source": [
    "x[\"Compared to National\"]=x[\"Compared to National\"].apply(lambda i:i.split(\" \")[0])\n",
    "x[\"Compared to National\"]"
   ]
  },
  {
   "cell_type": "code",
   "execution_count": 203,
   "id": "6065d6a6-eed8-4522-8b36-69bfdf194ec2",
   "metadata": {},
   "outputs": [
    {
     "data": {
      "text/plain": [
       "array(['0.165', '3.249', '1485', ..., '102.469', '16779', '23.535'],\n",
       "      dtype=object)"
      ]
     },
     "execution_count": 203,
     "metadata": {},
     "output_type": "execute_result"
    }
   ],
   "source": [
    "x[\"Score\"].unique()"
   ]
  },
  {
   "cell_type": "code",
   "execution_count": 204,
   "id": "19e3f725-1f23-4422-89a0-e434cd4f2817",
   "metadata": {},
   "outputs": [
    {
     "data": {
      "text/plain": [
       "21771"
      ]
     },
     "execution_count": 204,
     "metadata": {},
     "output_type": "execute_result"
    }
   ],
   "source": [
    "x[\"Score\"].nunique()"
   ]
  },
  {
   "cell_type": "code",
   "execution_count": 205,
   "id": "5f452cd0-8027-480e-8a5b-d3ec6b15fa86",
   "metadata": {},
   "outputs": [
    {
     "data": {
      "text/plain": [
       "array(['01/01/2015', '07/01/2014'], dtype=object)"
      ]
     },
     "execution_count": 205,
     "metadata": {},
     "output_type": "execute_result"
    }
   ],
   "source": [
    "x[\"Measure Start Date\"].unique()"
   ]
  },
  {
   "cell_type": "code",
   "execution_count": 206,
   "id": "0c10b32f-9dad-4727-be5b-0e9279a80cbf",
   "metadata": {},
   "outputs": [
    {
     "data": {
      "text/plain": [
       "2"
      ]
     },
     "execution_count": 206,
     "metadata": {},
     "output_type": "execute_result"
    }
   ],
   "source": [
    "x[\"Measure Start Date\"].nunique()"
   ]
  },
  {
   "cell_type": "code",
   "execution_count": 207,
   "id": "3cb84027-de4c-47e5-8da9-95fa0d80f5cd",
   "metadata": {},
   "outputs": [
    {
     "data": {
      "text/plain": [
       "0         1\n",
       "1         1\n",
       "2         1\n",
       "3         1\n",
       "4         1\n",
       "         ..\n",
       "222859    1\n",
       "222860    3\n",
       "222861    1\n",
       "222862    3\n",
       "222863    3\n",
       "Name: Quarter, Length: 222864, dtype: int32"
      ]
     },
     "execution_count": 207,
     "metadata": {},
     "output_type": "execute_result"
    }
   ],
   "source": [
    "import datetime as dt\n",
    "x[\"Measure Start Date\"]=pd.to_datetime(x[\"Measure Start Date\"])\n",
    "x[\"Quarter\"]=x[\"Measure Start Date\"].dt.quarter\n",
    "x[\"Quarter\"]"
   ]
  },
  {
   "cell_type": "code",
   "execution_count": 208,
   "id": "599f8e51-09d1-4cf0-927b-a335412036e8",
   "metadata": {},
   "outputs": [
    {
     "data": {
      "text/plain": [
       "0         1\n",
       "1         1\n",
       "2         1\n",
       "3         1\n",
       "4         1\n",
       "         ..\n",
       "222859    1\n",
       "222860    7\n",
       "222861    1\n",
       "222862    7\n",
       "222863    7\n",
       "Name: Month, Length: 222864, dtype: int32"
      ]
     },
     "execution_count": 208,
     "metadata": {},
     "output_type": "execute_result"
    }
   ],
   "source": [
    "x[\"Month\"]=x[\"Measure Start Date\"].dt.month\n",
    "x[\"Month\"]"
   ]
  },
  {
   "cell_type": "code",
   "execution_count": 209,
   "id": "86ec6067-7696-4152-9935-8d5a8d98c983",
   "metadata": {},
   "outputs": [
    {
     "data": {
      "text/plain": [
       "0         2015\n",
       "1         2015\n",
       "2         2015\n",
       "3         2015\n",
       "4         2015\n",
       "          ... \n",
       "222859    2015\n",
       "222860    2014\n",
       "222861    2015\n",
       "222862    2014\n",
       "222863    2014\n",
       "Name: year, Length: 222864, dtype: int32"
      ]
     },
     "execution_count": 209,
     "metadata": {},
     "output_type": "execute_result"
    }
   ],
   "source": [
    "x[\"year\"]=x[\"Measure Start Date\"].dt.year\n",
    "x[\"year\"]"
   ]
  },
  {
   "cell_type": "code",
   "execution_count": 210,
   "id": "e35184b3-1d5c-474a-b1e1-305abb2ad26b",
   "metadata": {},
   "outputs": [
    {
     "data": {
      "text/html": [
       "<div>\n",
       "<style scoped>\n",
       "    .dataframe tbody tr th:only-of-type {\n",
       "        vertical-align: middle;\n",
       "    }\n",
       "\n",
       "    .dataframe tbody tr th {\n",
       "        vertical-align: top;\n",
       "    }\n",
       "\n",
       "    .dataframe thead th {\n",
       "        text-align: right;\n",
       "    }\n",
       "</style>\n",
       "<table border=\"1\" class=\"dataframe\">\n",
       "  <thead>\n",
       "    <tr style=\"text-align: right;\">\n",
       "      <th></th>\n",
       "      <th>Provider ID</th>\n",
       "      <th>Hospital Name</th>\n",
       "      <th>Address</th>\n",
       "      <th>City</th>\n",
       "      <th>State</th>\n",
       "      <th>ZIP Code</th>\n",
       "      <th>County Name</th>\n",
       "      <th>Phone Number</th>\n",
       "      <th>Measure Name</th>\n",
       "      <th>Measure ID</th>\n",
       "      <th>Compared to National</th>\n",
       "      <th>Score</th>\n",
       "      <th>Measure Start Date</th>\n",
       "      <th>Measure End Date</th>\n",
       "      <th>Location</th>\n",
       "      <th>Quarter</th>\n",
       "      <th>Month</th>\n",
       "      <th>year</th>\n",
       "    </tr>\n",
       "  </thead>\n",
       "  <tbody>\n",
       "    <tr>\n",
       "      <th>0</th>\n",
       "      <td>10005</td>\n",
       "      <td>MARSHALL</td>\n",
       "      <td>121510151</td>\n",
       "      <td>BOAZ</td>\n",
       "      <td>AL</td>\n",
       "      <td>35957</td>\n",
       "      <td>MARSHALL</td>\n",
       "      <td>2565938310</td>\n",
       "      <td>CLABSI</td>\n",
       "      <td>HAI</td>\n",
       "      <td>No</td>\n",
       "      <td>0.165</td>\n",
       "      <td>2015-01-01</td>\n",
       "      <td>06/30/2015</td>\n",
       "      <td>2505 U S HIGHWAY 431 NORTH\\nBOAZ, AL 35957\\n</td>\n",
       "      <td>1</td>\n",
       "      <td>1</td>\n",
       "      <td>2015</td>\n",
       "    </tr>\n",
       "    <tr>\n",
       "      <th>1</th>\n",
       "      <td>10005</td>\n",
       "      <td>MARSHALL</td>\n",
       "      <td>121510151</td>\n",
       "      <td>BOAZ</td>\n",
       "      <td>AL</td>\n",
       "      <td>35957</td>\n",
       "      <td>MARSHALL</td>\n",
       "      <td>2565938310</td>\n",
       "      <td>CLABSI</td>\n",
       "      <td>HAI</td>\n",
       "      <td>No</td>\n",
       "      <td>3.249</td>\n",
       "      <td>2015-01-01</td>\n",
       "      <td>06/30/2015</td>\n",
       "      <td>2505 U S HIGHWAY 431 NORTH\\nBOAZ, AL 35957\\n</td>\n",
       "      <td>1</td>\n",
       "      <td>1</td>\n",
       "      <td>2015</td>\n",
       "    </tr>\n",
       "    <tr>\n",
       "      <th>2</th>\n",
       "      <td>10005</td>\n",
       "      <td>MARSHALL</td>\n",
       "      <td>121510151</td>\n",
       "      <td>BOAZ</td>\n",
       "      <td>AL</td>\n",
       "      <td>35957</td>\n",
       "      <td>MARSHALL</td>\n",
       "      <td>2565938310</td>\n",
       "      <td>CLABSI</td>\n",
       "      <td>HAI</td>\n",
       "      <td>No</td>\n",
       "      <td>1485</td>\n",
       "      <td>2015-01-01</td>\n",
       "      <td>06/30/2015</td>\n",
       "      <td>2505 U S HIGHWAY 431 NORTH\\nBOAZ, AL 35957\\n</td>\n",
       "      <td>1</td>\n",
       "      <td>1</td>\n",
       "      <td>2015</td>\n",
       "    </tr>\n",
       "    <tr>\n",
       "      <th>3</th>\n",
       "      <td>10005</td>\n",
       "      <td>MARSHALL</td>\n",
       "      <td>121510151</td>\n",
       "      <td>BOAZ</td>\n",
       "      <td>AL</td>\n",
       "      <td>35957</td>\n",
       "      <td>MARSHALL</td>\n",
       "      <td>2565938310</td>\n",
       "      <td>CLABSI</td>\n",
       "      <td>HAI</td>\n",
       "      <td>No</td>\n",
       "      <td>2.034</td>\n",
       "      <td>2015-01-01</td>\n",
       "      <td>06/30/2015</td>\n",
       "      <td>2505 U S HIGHWAY 431 NORTH\\nBOAZ, AL 35957\\n</td>\n",
       "      <td>1</td>\n",
       "      <td>1</td>\n",
       "      <td>2015</td>\n",
       "    </tr>\n",
       "    <tr>\n",
       "      <th>4</th>\n",
       "      <td>10005</td>\n",
       "      <td>MARSHALL</td>\n",
       "      <td>121510151</td>\n",
       "      <td>BOAZ</td>\n",
       "      <td>AL</td>\n",
       "      <td>35957</td>\n",
       "      <td>MARSHALL</td>\n",
       "      <td>2565938310</td>\n",
       "      <td>CLABSI</td>\n",
       "      <td>HAI</td>\n",
       "      <td>No</td>\n",
       "      <td>2</td>\n",
       "      <td>2015-01-01</td>\n",
       "      <td>06/30/2015</td>\n",
       "      <td>2505 U S HIGHWAY 431 NORTH\\nBOAZ, AL 35957\\n</td>\n",
       "      <td>1</td>\n",
       "      <td>1</td>\n",
       "      <td>2015</td>\n",
       "    </tr>\n",
       "    <tr>\n",
       "      <th>...</th>\n",
       "      <td>...</td>\n",
       "      <td>...</td>\n",
       "      <td>...</td>\n",
       "      <td>...</td>\n",
       "      <td>...</td>\n",
       "      <td>...</td>\n",
       "      <td>...</td>\n",
       "      <td>...</td>\n",
       "      <td>...</td>\n",
       "      <td>...</td>\n",
       "      <td>...</td>\n",
       "      <td>...</td>\n",
       "      <td>...</td>\n",
       "      <td>...</td>\n",
       "      <td>...</td>\n",
       "      <td>...</td>\n",
       "      <td>...</td>\n",
       "      <td>...</td>\n",
       "    </tr>\n",
       "    <tr>\n",
       "      <th>222859</th>\n",
       "      <td>351325</td>\n",
       "      <td>ST</td>\n",
       "      <td>1710121</td>\n",
       "      <td>CROSBY</td>\n",
       "      <td>ND</td>\n",
       "      <td>58730</td>\n",
       "      <td>DIVIDE</td>\n",
       "      <td>7019656384</td>\n",
       "      <td>CAUTI</td>\n",
       "      <td>HAI</td>\n",
       "      <td>Not</td>\n",
       "      <td>Not Available</td>\n",
       "      <td>2015-01-01</td>\n",
       "      <td>06/30/2015</td>\n",
       "      <td>702 1ST ST SW\\nCROSBY, ND 58730\\n(48.906708, -...</td>\n",
       "      <td>1</td>\n",
       "      <td>1</td>\n",
       "      <td>2015</td>\n",
       "    </tr>\n",
       "    <tr>\n",
       "      <th>222860</th>\n",
       "      <td>471303</td>\n",
       "      <td>NORTHEASTERN</td>\n",
       "      <td>111311151</td>\n",
       "      <td>SAINT</td>\n",
       "      <td>VT</td>\n",
       "      <td>5819</td>\n",
       "      <td>CALEDONIA</td>\n",
       "      <td>8027487400</td>\n",
       "      <td>C.diff</td>\n",
       "      <td>HAI</td>\n",
       "      <td>Not</td>\n",
       "      <td>Not Available</td>\n",
       "      <td>2014-07-01</td>\n",
       "      <td>06/30/2015</td>\n",
       "      <td>1315 HOSPITAL DRIVE\\nSAINT JOHNSBURY, VT 05819...</td>\n",
       "      <td>3</td>\n",
       "      <td>7</td>\n",
       "      <td>2014</td>\n",
       "    </tr>\n",
       "    <tr>\n",
       "      <th>222861</th>\n",
       "      <td>150026</td>\n",
       "      <td>IU</td>\n",
       "      <td>1210101</td>\n",
       "      <td>GOSHEN</td>\n",
       "      <td>IN</td>\n",
       "      <td>46526</td>\n",
       "      <td>ELKHART</td>\n",
       "      <td>5743641000</td>\n",
       "      <td>CLABSI</td>\n",
       "      <td>HAI</td>\n",
       "      <td>No</td>\n",
       "      <td>1416</td>\n",
       "      <td>2015-01-01</td>\n",
       "      <td>06/30/2015</td>\n",
       "      <td>200 HIGH PARK AVE\\nGOSHEN, IN 46526\\n(41.56432...</td>\n",
       "      <td>1</td>\n",
       "      <td>1</td>\n",
       "      <td>2015</td>\n",
       "    </tr>\n",
       "    <tr>\n",
       "      <th>222862</th>\n",
       "      <td>50038</td>\n",
       "      <td>SANTA</td>\n",
       "      <td>1715111</td>\n",
       "      <td>SAN</td>\n",
       "      <td>CA</td>\n",
       "      <td>95128</td>\n",
       "      <td>SANTA</td>\n",
       "      <td>4088855000</td>\n",
       "      <td>SSI</td>\n",
       "      <td>HAI</td>\n",
       "      <td>Worse</td>\n",
       "      <td>3.246</td>\n",
       "      <td>2014-07-01</td>\n",
       "      <td>06/30/2015</td>\n",
       "      <td>751 SOUTH BASCOM AVENUE\\nSAN JOSE, CA 95128\\n(...</td>\n",
       "      <td>3</td>\n",
       "      <td>7</td>\n",
       "      <td>2014</td>\n",
       "    </tr>\n",
       "    <tr>\n",
       "      <th>222863</th>\n",
       "      <td>140217</td>\n",
       "      <td>PRESENCE</td>\n",
       "      <td>17171</td>\n",
       "      <td>ELGIN</td>\n",
       "      <td>IL</td>\n",
       "      <td>60123</td>\n",
       "      <td>KANE</td>\n",
       "      <td>8476953200</td>\n",
       "      <td>MRSA</td>\n",
       "      <td>HAI</td>\n",
       "      <td>No</td>\n",
       "      <td>0.219</td>\n",
       "      <td>2014-07-01</td>\n",
       "      <td>06/30/2015</td>\n",
       "      <td>77 N AIRLITE STREET\\nELGIN, IL 60123\\n(42.0362...</td>\n",
       "      <td>3</td>\n",
       "      <td>7</td>\n",
       "      <td>2014</td>\n",
       "    </tr>\n",
       "  </tbody>\n",
       "</table>\n",
       "<p>222864 rows × 18 columns</p>\n",
       "</div>"
      ],
      "text/plain": [
       "        Provider ID Hospital Name    Address    City State  ZIP Code  \\\n",
       "0             10005      MARSHALL  121510151    BOAZ    AL     35957   \n",
       "1             10005      MARSHALL  121510151    BOAZ    AL     35957   \n",
       "2             10005      MARSHALL  121510151    BOAZ    AL     35957   \n",
       "3             10005      MARSHALL  121510151    BOAZ    AL     35957   \n",
       "4             10005      MARSHALL  121510151    BOAZ    AL     35957   \n",
       "...             ...           ...        ...     ...   ...       ...   \n",
       "222859       351325            ST    1710121  CROSBY    ND     58730   \n",
       "222860       471303  NORTHEASTERN  111311151   SAINT    VT      5819   \n",
       "222861       150026            IU    1210101  GOSHEN    IN     46526   \n",
       "222862        50038         SANTA    1715111     SAN    CA     95128   \n",
       "222863       140217      PRESENCE      17171   ELGIN    IL     60123   \n",
       "\n",
       "       County Name  Phone Number Measure Name Measure ID Compared to National  \\\n",
       "0         MARSHALL    2565938310       CLABSI        HAI                   No   \n",
       "1         MARSHALL    2565938310       CLABSI        HAI                   No   \n",
       "2         MARSHALL    2565938310       CLABSI        HAI                   No   \n",
       "3         MARSHALL    2565938310       CLABSI        HAI                   No   \n",
       "4         MARSHALL    2565938310       CLABSI        HAI                   No   \n",
       "...            ...           ...          ...        ...                  ...   \n",
       "222859      DIVIDE    7019656384        CAUTI        HAI                  Not   \n",
       "222860   CALEDONIA    8027487400       C.diff        HAI                  Not   \n",
       "222861     ELKHART    5743641000       CLABSI        HAI                   No   \n",
       "222862       SANTA    4088855000          SSI        HAI                Worse   \n",
       "222863        KANE    8476953200         MRSA        HAI                   No   \n",
       "\n",
       "                Score Measure Start Date Measure End Date  \\\n",
       "0               0.165         2015-01-01       06/30/2015   \n",
       "1               3.249         2015-01-01       06/30/2015   \n",
       "2                1485         2015-01-01       06/30/2015   \n",
       "3               2.034         2015-01-01       06/30/2015   \n",
       "4                   2         2015-01-01       06/30/2015   \n",
       "...               ...                ...              ...   \n",
       "222859  Not Available         2015-01-01       06/30/2015   \n",
       "222860  Not Available         2014-07-01       06/30/2015   \n",
       "222861           1416         2015-01-01       06/30/2015   \n",
       "222862          3.246         2014-07-01       06/30/2015   \n",
       "222863          0.219         2014-07-01       06/30/2015   \n",
       "\n",
       "                                                 Location  Quarter  Month  \\\n",
       "0            2505 U S HIGHWAY 431 NORTH\\nBOAZ, AL 35957\\n        1      1   \n",
       "1            2505 U S HIGHWAY 431 NORTH\\nBOAZ, AL 35957\\n        1      1   \n",
       "2            2505 U S HIGHWAY 431 NORTH\\nBOAZ, AL 35957\\n        1      1   \n",
       "3            2505 U S HIGHWAY 431 NORTH\\nBOAZ, AL 35957\\n        1      1   \n",
       "4            2505 U S HIGHWAY 431 NORTH\\nBOAZ, AL 35957\\n        1      1   \n",
       "...                                                   ...      ...    ...   \n",
       "222859  702 1ST ST SW\\nCROSBY, ND 58730\\n(48.906708, -...        1      1   \n",
       "222860  1315 HOSPITAL DRIVE\\nSAINT JOHNSBURY, VT 05819...        3      7   \n",
       "222861  200 HIGH PARK AVE\\nGOSHEN, IN 46526\\n(41.56432...        1      1   \n",
       "222862  751 SOUTH BASCOM AVENUE\\nSAN JOSE, CA 95128\\n(...        3      7   \n",
       "222863  77 N AIRLITE STREET\\nELGIN, IL 60123\\n(42.0362...        3      7   \n",
       "\n",
       "        year  \n",
       "0       2015  \n",
       "1       2015  \n",
       "2       2015  \n",
       "3       2015  \n",
       "4       2015  \n",
       "...      ...  \n",
       "222859  2015  \n",
       "222860  2014  \n",
       "222861  2015  \n",
       "222862  2014  \n",
       "222863  2014  \n",
       "\n",
       "[222864 rows x 18 columns]"
      ]
     },
     "execution_count": 210,
     "metadata": {},
     "output_type": "execute_result"
    }
   ],
   "source": [
    "x"
   ]
  },
  {
   "cell_type": "code",
   "execution_count": 211,
   "id": "09b27d97-384b-4343-8959-7e45a6f0632c",
   "metadata": {},
   "outputs": [
    {
     "data": {
      "text/plain": [
       "array(['06/30/2015'], dtype=object)"
      ]
     },
     "execution_count": 211,
     "metadata": {},
     "output_type": "execute_result"
    }
   ],
   "source": [
    "x[\"Measure End Date\"].unique()"
   ]
  },
  {
   "cell_type": "code",
   "execution_count": 212,
   "id": "2753d910-6a35-43a9-87f6-ee627089703c",
   "metadata": {},
   "outputs": [
    {
     "data": {
      "text/plain": [
       "0         6\n",
       "1         6\n",
       "2         6\n",
       "3         6\n",
       "4         6\n",
       "         ..\n",
       "222859    6\n",
       "222860    6\n",
       "222861    6\n",
       "222862    6\n",
       "222863    6\n",
       "Name: month, Length: 222864, dtype: int32"
      ]
     },
     "execution_count": 212,
     "metadata": {},
     "output_type": "execute_result"
    }
   ],
   "source": [
    "import datetime as dt\n",
    "x[\"Measure End Date\"]=pd.to_datetime(x[\"Measure End Date\"])\n",
    "x[\"month\"]=x[\"Measure End Date\"].dt.month\n",
    "x[\"month\"]"
   ]
  },
  {
   "cell_type": "code",
   "execution_count": 213,
   "id": "4eab12e9-5a2f-4fd2-b5e0-6dfcd9557a42",
   "metadata": {},
   "outputs": [
    {
     "data": {
      "text/plain": [
       "0         2015\n",
       "1         2015\n",
       "2         2015\n",
       "3         2015\n",
       "4         2015\n",
       "          ... \n",
       "222859    2015\n",
       "222860    2015\n",
       "222861    2015\n",
       "222862    2015\n",
       "222863    2015\n",
       "Name: year, Length: 222864, dtype: int32"
      ]
     },
     "execution_count": 213,
     "metadata": {},
     "output_type": "execute_result"
    }
   ],
   "source": [
    "x[\"year\"]=x[\"Measure End Date\"].dt.year\n",
    "x[\"year\"]"
   ]
  },
  {
   "cell_type": "code",
   "execution_count": 214,
   "id": "ab098443-cac9-49e7-9ea5-4c3c654f3333",
   "metadata": {},
   "outputs": [
    {
     "data": {
      "text/plain": [
       "0         2\n",
       "1         2\n",
       "2         2\n",
       "3         2\n",
       "4         2\n",
       "         ..\n",
       "222859    2\n",
       "222860    2\n",
       "222861    2\n",
       "222862    2\n",
       "222863    2\n",
       "Name: quarter, Length: 222864, dtype: int32"
      ]
     },
     "execution_count": 214,
     "metadata": {},
     "output_type": "execute_result"
    }
   ],
   "source": [
    "x[\"quarter\"]=x[\"Measure End Date\"].dt.quarter\n",
    "x[\"quarter\"]"
   ]
  },
  {
   "cell_type": "code",
   "execution_count": 215,
   "id": "c3abc037-7e85-47d1-bcc7-776d94b48d1d",
   "metadata": {},
   "outputs": [
    {
     "data": {
      "text/html": [
       "<div>\n",
       "<style scoped>\n",
       "    .dataframe tbody tr th:only-of-type {\n",
       "        vertical-align: middle;\n",
       "    }\n",
       "\n",
       "    .dataframe tbody tr th {\n",
       "        vertical-align: top;\n",
       "    }\n",
       "\n",
       "    .dataframe thead th {\n",
       "        text-align: right;\n",
       "    }\n",
       "</style>\n",
       "<table border=\"1\" class=\"dataframe\">\n",
       "  <thead>\n",
       "    <tr style=\"text-align: right;\">\n",
       "      <th></th>\n",
       "      <th>Provider ID</th>\n",
       "      <th>Hospital Name</th>\n",
       "      <th>Address</th>\n",
       "      <th>City</th>\n",
       "      <th>State</th>\n",
       "      <th>ZIP Code</th>\n",
       "      <th>County Name</th>\n",
       "      <th>Phone Number</th>\n",
       "      <th>Measure Name</th>\n",
       "      <th>Measure ID</th>\n",
       "      <th>Compared to National</th>\n",
       "      <th>Score</th>\n",
       "      <th>Measure Start Date</th>\n",
       "      <th>Measure End Date</th>\n",
       "      <th>Location</th>\n",
       "      <th>Quarter</th>\n",
       "      <th>Month</th>\n",
       "      <th>year</th>\n",
       "      <th>month</th>\n",
       "      <th>quarter</th>\n",
       "    </tr>\n",
       "  </thead>\n",
       "  <tbody>\n",
       "    <tr>\n",
       "      <th>0</th>\n",
       "      <td>10005</td>\n",
       "      <td>MARSHALL</td>\n",
       "      <td>121510151</td>\n",
       "      <td>BOAZ</td>\n",
       "      <td>AL</td>\n",
       "      <td>35957</td>\n",
       "      <td>MARSHALL</td>\n",
       "      <td>2565938310</td>\n",
       "      <td>CLABSI</td>\n",
       "      <td>HAI</td>\n",
       "      <td>No</td>\n",
       "      <td>0.165</td>\n",
       "      <td>2015-01-01</td>\n",
       "      <td>2015-06-30</td>\n",
       "      <td>2505 U S HIGHWAY 431 NORTH\\nBOAZ, AL 35957\\n</td>\n",
       "      <td>1</td>\n",
       "      <td>1</td>\n",
       "      <td>2015</td>\n",
       "      <td>6</td>\n",
       "      <td>2</td>\n",
       "    </tr>\n",
       "    <tr>\n",
       "      <th>1</th>\n",
       "      <td>10005</td>\n",
       "      <td>MARSHALL</td>\n",
       "      <td>121510151</td>\n",
       "      <td>BOAZ</td>\n",
       "      <td>AL</td>\n",
       "      <td>35957</td>\n",
       "      <td>MARSHALL</td>\n",
       "      <td>2565938310</td>\n",
       "      <td>CLABSI</td>\n",
       "      <td>HAI</td>\n",
       "      <td>No</td>\n",
       "      <td>3.249</td>\n",
       "      <td>2015-01-01</td>\n",
       "      <td>2015-06-30</td>\n",
       "      <td>2505 U S HIGHWAY 431 NORTH\\nBOAZ, AL 35957\\n</td>\n",
       "      <td>1</td>\n",
       "      <td>1</td>\n",
       "      <td>2015</td>\n",
       "      <td>6</td>\n",
       "      <td>2</td>\n",
       "    </tr>\n",
       "  </tbody>\n",
       "</table>\n",
       "</div>"
      ],
      "text/plain": [
       "   Provider ID Hospital Name    Address  City State  ZIP Code County Name  \\\n",
       "0        10005      MARSHALL  121510151  BOAZ    AL     35957    MARSHALL   \n",
       "1        10005      MARSHALL  121510151  BOAZ    AL     35957    MARSHALL   \n",
       "\n",
       "   Phone Number Measure Name Measure ID Compared to National  Score  \\\n",
       "0    2565938310       CLABSI        HAI                   No  0.165   \n",
       "1    2565938310       CLABSI        HAI                   No  3.249   \n",
       "\n",
       "  Measure Start Date Measure End Date  \\\n",
       "0         2015-01-01       2015-06-30   \n",
       "1         2015-01-01       2015-06-30   \n",
       "\n",
       "                                       Location  Quarter  Month  year  month  \\\n",
       "0  2505 U S HIGHWAY 431 NORTH\\nBOAZ, AL 35957\\n        1      1  2015      6   \n",
       "1  2505 U S HIGHWAY 431 NORTH\\nBOAZ, AL 35957\\n        1      1  2015      6   \n",
       "\n",
       "   quarter  \n",
       "0        2  \n",
       "1        2  "
      ]
     },
     "execution_count": 215,
     "metadata": {},
     "output_type": "execute_result"
    }
   ],
   "source": [
    "x.head(2)"
   ]
  },
  {
   "cell_type": "code",
   "execution_count": 216,
   "id": "6c5eec25-7d1c-4542-8f6d-cc10d22e614c",
   "metadata": {},
   "outputs": [
    {
     "data": {
      "text/plain": [
       "array(['2505 U S HIGHWAY 431 NORTH\\nBOAZ, AL 35957\\n',\n",
       "       '200 MED CENTER DRIVE\\nFORT PAYNE, AL 35968\\n',\n",
       "       '209 NORTH MAIN STREET\\nWEDOWEE, AL 36278\\n', ...,\n",
       "       '11 UPPER RIVERDALE ROAD, SW\\nRIVERDALE, GA 30274\\n(33.576612, -84.393249)',\n",
       "       '900 SOUTH AUBURN STREET\\nKENNEWICK, WA 99336\\n(46.199447, -119.118458)',\n",
       "       '10501 EAST 91ST STREET SOUTH\\nTULSA, OK 74133\\n(36.03189, -95.85692)'],\n",
       "      dtype=object)"
      ]
     },
     "execution_count": 216,
     "metadata": {},
     "output_type": "execute_result"
    }
   ],
   "source": [
    "x[\"Location\"].unique()"
   ]
  },
  {
   "cell_type": "code",
   "execution_count": 217,
   "id": "bfde6b9d-a591-4261-a5ae-e80012c6bf2c",
   "metadata": {},
   "outputs": [
    {
     "data": {
      "text/plain": [
       "4643"
      ]
     },
     "execution_count": 217,
     "metadata": {},
     "output_type": "execute_result"
    }
   ],
   "source": [
    "x[\"Location\"].nunique()"
   ]
  },
  {
   "cell_type": "code",
   "execution_count": 218,
   "id": "ee12b2e4-abce-4a13-8b8e-c6b3a2b8bdb4",
   "metadata": {},
   "outputs": [
    {
     "data": {
      "text/plain": [
       "0         2505\n",
       "1         2505\n",
       "2         2505\n",
       "3         2505\n",
       "4         2505\n",
       "          ... \n",
       "222859     702\n",
       "222860    1315\n",
       "222861     200\n",
       "222862     751\n",
       "222863      77\n",
       "Name: Location, Length: 222864, dtype: object"
      ]
     },
     "execution_count": 218,
     "metadata": {},
     "output_type": "execute_result"
    }
   ],
   "source": [
    "x[\"Location\"]=x[\"Location\"].apply(lambda i:i.split(\" \")[0])\n",
    "x[\"Location\"]"
   ]
  },
  {
   "cell_type": "code",
   "execution_count": 219,
   "id": "343d04c3-634c-4f43-af55-7b1432a36eb3",
   "metadata": {},
   "outputs": [
    {
     "data": {
      "text/html": [
       "<div>\n",
       "<style scoped>\n",
       "    .dataframe tbody tr th:only-of-type {\n",
       "        vertical-align: middle;\n",
       "    }\n",
       "\n",
       "    .dataframe tbody tr th {\n",
       "        vertical-align: top;\n",
       "    }\n",
       "\n",
       "    .dataframe thead th {\n",
       "        text-align: right;\n",
       "    }\n",
       "</style>\n",
       "<table border=\"1\" class=\"dataframe\">\n",
       "  <thead>\n",
       "    <tr style=\"text-align: right;\">\n",
       "      <th></th>\n",
       "      <th>Provider ID</th>\n",
       "      <th>Hospital Name</th>\n",
       "      <th>Address</th>\n",
       "      <th>City</th>\n",
       "      <th>State</th>\n",
       "      <th>ZIP Code</th>\n",
       "      <th>County Name</th>\n",
       "      <th>Phone Number</th>\n",
       "      <th>Measure Name</th>\n",
       "      <th>Measure ID</th>\n",
       "      <th>Compared to National</th>\n",
       "      <th>Score</th>\n",
       "      <th>Measure Start Date</th>\n",
       "      <th>Measure End Date</th>\n",
       "      <th>Location</th>\n",
       "      <th>Quarter</th>\n",
       "      <th>Month</th>\n",
       "      <th>year</th>\n",
       "      <th>month</th>\n",
       "      <th>quarter</th>\n",
       "    </tr>\n",
       "  </thead>\n",
       "  <tbody>\n",
       "    <tr>\n",
       "      <th>0</th>\n",
       "      <td>10005</td>\n",
       "      <td>MARSHALL</td>\n",
       "      <td>121510151</td>\n",
       "      <td>BOAZ</td>\n",
       "      <td>AL</td>\n",
       "      <td>35957</td>\n",
       "      <td>MARSHALL</td>\n",
       "      <td>2565938310</td>\n",
       "      <td>CLABSI</td>\n",
       "      <td>HAI</td>\n",
       "      <td>No</td>\n",
       "      <td>0.165</td>\n",
       "      <td>2015-01-01</td>\n",
       "      <td>2015-06-30</td>\n",
       "      <td>2505</td>\n",
       "      <td>1</td>\n",
       "      <td>1</td>\n",
       "      <td>2015</td>\n",
       "      <td>6</td>\n",
       "      <td>2</td>\n",
       "    </tr>\n",
       "    <tr>\n",
       "      <th>1</th>\n",
       "      <td>10005</td>\n",
       "      <td>MARSHALL</td>\n",
       "      <td>121510151</td>\n",
       "      <td>BOAZ</td>\n",
       "      <td>AL</td>\n",
       "      <td>35957</td>\n",
       "      <td>MARSHALL</td>\n",
       "      <td>2565938310</td>\n",
       "      <td>CLABSI</td>\n",
       "      <td>HAI</td>\n",
       "      <td>No</td>\n",
       "      <td>3.249</td>\n",
       "      <td>2015-01-01</td>\n",
       "      <td>2015-06-30</td>\n",
       "      <td>2505</td>\n",
       "      <td>1</td>\n",
       "      <td>1</td>\n",
       "      <td>2015</td>\n",
       "      <td>6</td>\n",
       "      <td>2</td>\n",
       "    </tr>\n",
       "  </tbody>\n",
       "</table>\n",
       "</div>"
      ],
      "text/plain": [
       "   Provider ID Hospital Name    Address  City State  ZIP Code County Name  \\\n",
       "0        10005      MARSHALL  121510151  BOAZ    AL     35957    MARSHALL   \n",
       "1        10005      MARSHALL  121510151  BOAZ    AL     35957    MARSHALL   \n",
       "\n",
       "   Phone Number Measure Name Measure ID Compared to National  Score  \\\n",
       "0    2565938310       CLABSI        HAI                   No  0.165   \n",
       "1    2565938310       CLABSI        HAI                   No  3.249   \n",
       "\n",
       "  Measure Start Date Measure End Date Location  Quarter  Month  year  month  \\\n",
       "0         2015-01-01       2015-06-30     2505        1      1  2015      6   \n",
       "1         2015-01-01       2015-06-30     2505        1      1  2015      6   \n",
       "\n",
       "   quarter  \n",
       "0        2  \n",
       "1        2  "
      ]
     },
     "execution_count": 219,
     "metadata": {},
     "output_type": "execute_result"
    }
   ],
   "source": [
    "x.head(2)"
   ]
  },
  {
   "cell_type": "code",
   "execution_count": 220,
   "id": "ba70ad1f-3668-4cb9-9e6c-9e7cbf37bd37",
   "metadata": {},
   "outputs": [
    {
     "data": {
      "text/plain": [
       "Location\n",
       "100      3984\n",
       "200      3072\n",
       "1000     2784\n",
       "300      2544\n",
       "400      2208\n",
       "         ... \n",
       "15155      48\n",
       "1926       48\n",
       "165        48\n",
       "1005       48\n",
       "6580       48\n",
       "Name: count, Length: 1805, dtype: int64"
      ]
     },
     "execution_count": 220,
     "metadata": {},
     "output_type": "execute_result"
    }
   ],
   "source": [
    "x[\"Location\"].value_counts()"
   ]
  },
  {
   "cell_type": "code",
   "execution_count": 221,
   "id": "8a37684c-0109-4203-bb77-2a70c8b61520",
   "metadata": {},
   "outputs": [
    {
     "data": {
      "text/plain": [
       "Score\n",
       "Not Available    124717\n",
       "0.000              3319\n",
       "0                  3319\n",
       "1                  2711\n",
       "2                  1976\n",
       "                  ...  \n",
       "115.311               1\n",
       "133294                1\n",
       "33417                 1\n",
       "7.668                 1\n",
       "23.535                1\n",
       "Name: count, Length: 21771, dtype: int64"
      ]
     },
     "execution_count": 221,
     "metadata": {},
     "output_type": "execute_result"
    }
   ],
   "source": [
    "x[\"Score\"].value_counts()"
   ]
  },
  {
   "cell_type": "code",
   "execution_count": 222,
   "id": "14f84e18-4998-4afe-82c9-1644191fa8f9",
   "metadata": {},
   "outputs": [
    {
     "data": {
      "text/html": [
       "<div>\n",
       "<style scoped>\n",
       "    .dataframe tbody tr th:only-of-type {\n",
       "        vertical-align: middle;\n",
       "    }\n",
       "\n",
       "    .dataframe tbody tr th {\n",
       "        vertical-align: top;\n",
       "    }\n",
       "\n",
       "    .dataframe thead th {\n",
       "        text-align: right;\n",
       "    }\n",
       "</style>\n",
       "<table border=\"1\" class=\"dataframe\">\n",
       "  <thead>\n",
       "    <tr style=\"text-align: right;\">\n",
       "      <th></th>\n",
       "      <th>Hospital Name</th>\n",
       "      <th>Location</th>\n",
       "      <th>Score</th>\n",
       "    </tr>\n",
       "  </thead>\n",
       "  <tbody>\n",
       "    <tr>\n",
       "      <th>0</th>\n",
       "      <td>ABBEVILLE</td>\n",
       "      <td>118</td>\n",
       "      <td>Not AvailableNot AvailableNot AvailableNot Ava...</td>\n",
       "    </tr>\n",
       "    <tr>\n",
       "      <th>1</th>\n",
       "      <td>ABBEVILLE</td>\n",
       "      <td>420</td>\n",
       "      <td>0.6731Not AvailableNot Available0.034Not Avail...</td>\n",
       "    </tr>\n",
       "    <tr>\n",
       "      <th>2</th>\n",
       "      <td>ABBOTT</td>\n",
       "      <td>800</td>\n",
       "      <td>1724090.226144020.95113.2690.747119584.02320.1...</td>\n",
       "    </tr>\n",
       "    <tr>\n",
       "      <th>3</th>\n",
       "      <td>ABILENE</td>\n",
       "      <td>6250</td>\n",
       "      <td>1.672Not Available171.1361Not AvailableNot Ava...</td>\n",
       "    </tr>\n",
       "    <tr>\n",
       "      <th>4</th>\n",
       "      <td>ABINGTON</td>\n",
       "      <td>1200</td>\n",
       "      <td>0.74774270.3933.40211.226150.4630.8321.34130.9...</td>\n",
       "    </tr>\n",
       "    <tr>\n",
       "      <th>...</th>\n",
       "      <td>...</td>\n",
       "      <td>...</td>\n",
       "      <td>...</td>\n",
       "    </tr>\n",
       "    <tr>\n",
       "      <th>4538</th>\n",
       "      <td>YORK</td>\n",
       "      <td>2222</td>\n",
       "      <td>Not AvailableNot AvailableNot AvailableNot Ava...</td>\n",
       "    </tr>\n",
       "    <tr>\n",
       "      <th>4539</th>\n",
       "      <td>YUKON</td>\n",
       "      <td>PO</td>\n",
       "      <td>Not AvailableNot AvailableNot AvailableNot Ava...</td>\n",
       "    </tr>\n",
       "    <tr>\n",
       "      <th>4540</th>\n",
       "      <td>YUMA</td>\n",
       "      <td>1000</td>\n",
       "      <td>Not AvailableNot AvailableNot AvailableNot Ava...</td>\n",
       "    </tr>\n",
       "    <tr>\n",
       "      <th>4541</th>\n",
       "      <td>YUMA</td>\n",
       "      <td>2400</td>\n",
       "      <td>0.7340.1214.7150.33199761.0070.636923500.16283...</td>\n",
       "    </tr>\n",
       "    <tr>\n",
       "      <th>4542</th>\n",
       "      <td>ZUNI</td>\n",
       "      <td>ROUTE</td>\n",
       "      <td>Not AvailableNot AvailableNot AvailableNot Ava...</td>\n",
       "    </tr>\n",
       "  </tbody>\n",
       "</table>\n",
       "<p>4543 rows × 3 columns</p>\n",
       "</div>"
      ],
      "text/plain": [
       "     Hospital Name Location                                              Score\n",
       "0        ABBEVILLE      118  Not AvailableNot AvailableNot AvailableNot Ava...\n",
       "1        ABBEVILLE      420  0.6731Not AvailableNot Available0.034Not Avail...\n",
       "2           ABBOTT      800  1724090.226144020.95113.2690.747119584.02320.1...\n",
       "3          ABILENE     6250  1.672Not Available171.1361Not AvailableNot Ava...\n",
       "4         ABINGTON     1200  0.74774270.3933.40211.226150.4630.8321.34130.9...\n",
       "...            ...      ...                                                ...\n",
       "4538          YORK     2222  Not AvailableNot AvailableNot AvailableNot Ava...\n",
       "4539         YUKON       PO  Not AvailableNot AvailableNot AvailableNot Ava...\n",
       "4540          YUMA     1000  Not AvailableNot AvailableNot AvailableNot Ava...\n",
       "4541          YUMA     2400  0.7340.1214.7150.33199761.0070.636923500.16283...\n",
       "4542          ZUNI    ROUTE  Not AvailableNot AvailableNot AvailableNot Ava...\n",
       "\n",
       "[4543 rows x 3 columns]"
      ]
     },
     "execution_count": 222,
     "metadata": {},
     "output_type": "execute_result"
    }
   ],
   "source": [
    "x.groupby([\"Hospital Name\",\"Location\"])[[\"Score\"]].sum().reset_index()"
   ]
  },
  {
   "cell_type": "code",
   "execution_count": 223,
   "id": "acf6fadb-bff8-44cc-93dc-9485dd79bd57",
   "metadata": {},
   "outputs": [
    {
     "data": {
      "text/html": [
       "<div>\n",
       "<style scoped>\n",
       "    .dataframe tbody tr th:only-of-type {\n",
       "        vertical-align: middle;\n",
       "    }\n",
       "\n",
       "    .dataframe tbody tr th {\n",
       "        vertical-align: top;\n",
       "    }\n",
       "\n",
       "    .dataframe thead th {\n",
       "        text-align: right;\n",
       "    }\n",
       "</style>\n",
       "<table border=\"1\" class=\"dataframe\">\n",
       "  <thead>\n",
       "    <tr style=\"text-align: right;\">\n",
       "      <th></th>\n",
       "      <th>Provider ID</th>\n",
       "      <th>Hospital Name</th>\n",
       "    </tr>\n",
       "  </thead>\n",
       "  <tbody>\n",
       "    <tr>\n",
       "      <th>0</th>\n",
       "      <td>10005</td>\n",
       "      <td>MARSHALL</td>\n",
       "    </tr>\n",
       "    <tr>\n",
       "      <th>1</th>\n",
       "      <td>10005</td>\n",
       "      <td>MARSHALL</td>\n",
       "    </tr>\n",
       "    <tr>\n",
       "      <th>2</th>\n",
       "      <td>10005</td>\n",
       "      <td>MARSHALL</td>\n",
       "    </tr>\n",
       "    <tr>\n",
       "      <th>3</th>\n",
       "      <td>10005</td>\n",
       "      <td>MARSHALL</td>\n",
       "    </tr>\n",
       "    <tr>\n",
       "      <th>4</th>\n",
       "      <td>10005</td>\n",
       "      <td>MARSHALL</td>\n",
       "    </tr>\n",
       "  </tbody>\n",
       "</table>\n",
       "</div>"
      ],
      "text/plain": [
       "   Provider ID Hospital Name\n",
       "0        10005      MARSHALL\n",
       "1        10005      MARSHALL\n",
       "2        10005      MARSHALL\n",
       "3        10005      MARSHALL\n",
       "4        10005      MARSHALL"
      ]
     },
     "execution_count": 223,
     "metadata": {},
     "output_type": "execute_result"
    }
   ],
   "source": [
    "p=x.iloc[0:5,:2]\n",
    "p"
   ]
  },
  {
   "cell_type": "code",
   "execution_count": 224,
   "id": "ce49d1c0-000b-48d6-b1fc-90ffd0643d72",
   "metadata": {},
   "outputs": [
    {
     "data": {
      "text/html": [
       "<div>\n",
       "<style scoped>\n",
       "    .dataframe tbody tr th:only-of-type {\n",
       "        vertical-align: middle;\n",
       "    }\n",
       "\n",
       "    .dataframe tbody tr th {\n",
       "        vertical-align: top;\n",
       "    }\n",
       "\n",
       "    .dataframe thead th {\n",
       "        text-align: right;\n",
       "    }\n",
       "</style>\n",
       "<table border=\"1\" class=\"dataframe\">\n",
       "  <thead>\n",
       "    <tr style=\"text-align: right;\">\n",
       "      <th></th>\n",
       "      <th>Provider ID</th>\n",
       "      <th>Hospital Name</th>\n",
       "      <th>Address</th>\n",
       "    </tr>\n",
       "  </thead>\n",
       "  <tbody>\n",
       "    <tr>\n",
       "      <th>0</th>\n",
       "      <td>10005</td>\n",
       "      <td>MARSHALL</td>\n",
       "      <td>121510151</td>\n",
       "    </tr>\n",
       "    <tr>\n",
       "      <th>1</th>\n",
       "      <td>10005</td>\n",
       "      <td>MARSHALL</td>\n",
       "      <td>121510151</td>\n",
       "    </tr>\n",
       "  </tbody>\n",
       "</table>\n",
       "</div>"
      ],
      "text/plain": [
       "   Provider ID Hospital Name    Address\n",
       "0        10005      MARSHALL  121510151\n",
       "1        10005      MARSHALL  121510151"
      ]
     },
     "execution_count": 224,
     "metadata": {},
     "output_type": "execute_result"
    }
   ],
   "source": [
    "q=x.iloc[0:2, :3]\n",
    "q"
   ]
  },
  {
   "cell_type": "code",
   "execution_count": 225,
   "id": "e178fa4b-2857-4303-8f79-6155e864ec94",
   "metadata": {},
   "outputs": [
    {
     "data": {
      "text/html": [
       "<div>\n",
       "<style scoped>\n",
       "    .dataframe tbody tr th:only-of-type {\n",
       "        vertical-align: middle;\n",
       "    }\n",
       "\n",
       "    .dataframe tbody tr th {\n",
       "        vertical-align: top;\n",
       "    }\n",
       "\n",
       "    .dataframe thead th {\n",
       "        text-align: right;\n",
       "    }\n",
       "</style>\n",
       "<table border=\"1\" class=\"dataframe\">\n",
       "  <thead>\n",
       "    <tr style=\"text-align: right;\">\n",
       "      <th></th>\n",
       "      <th>Provider ID</th>\n",
       "      <th>Hospital Name</th>\n",
       "      <th>Address</th>\n",
       "    </tr>\n",
       "  </thead>\n",
       "  <tbody>\n",
       "    <tr>\n",
       "      <th>0</th>\n",
       "      <td>10005</td>\n",
       "      <td>MARSHALL</td>\n",
       "      <td>NaN</td>\n",
       "    </tr>\n",
       "    <tr>\n",
       "      <th>1</th>\n",
       "      <td>10005</td>\n",
       "      <td>MARSHALL</td>\n",
       "      <td>NaN</td>\n",
       "    </tr>\n",
       "    <tr>\n",
       "      <th>2</th>\n",
       "      <td>10005</td>\n",
       "      <td>MARSHALL</td>\n",
       "      <td>NaN</td>\n",
       "    </tr>\n",
       "    <tr>\n",
       "      <th>3</th>\n",
       "      <td>10005</td>\n",
       "      <td>MARSHALL</td>\n",
       "      <td>NaN</td>\n",
       "    </tr>\n",
       "    <tr>\n",
       "      <th>4</th>\n",
       "      <td>10005</td>\n",
       "      <td>MARSHALL</td>\n",
       "      <td>NaN</td>\n",
       "    </tr>\n",
       "    <tr>\n",
       "      <th>0</th>\n",
       "      <td>10005</td>\n",
       "      <td>MARSHALL</td>\n",
       "      <td>121510151</td>\n",
       "    </tr>\n",
       "    <tr>\n",
       "      <th>1</th>\n",
       "      <td>10005</td>\n",
       "      <td>MARSHALL</td>\n",
       "      <td>121510151</td>\n",
       "    </tr>\n",
       "  </tbody>\n",
       "</table>\n",
       "</div>"
      ],
      "text/plain": [
       "   Provider ID Hospital Name    Address\n",
       "0        10005      MARSHALL        NaN\n",
       "1        10005      MARSHALL        NaN\n",
       "2        10005      MARSHALL        NaN\n",
       "3        10005      MARSHALL        NaN\n",
       "4        10005      MARSHALL        NaN\n",
       "0        10005      MARSHALL  121510151\n",
       "1        10005      MARSHALL  121510151"
      ]
     },
     "execution_count": 225,
     "metadata": {},
     "output_type": "execute_result"
    }
   ],
   "source": [
    "c=pd.concat([p,q],axis=0)\n",
    "c"
   ]
  },
  {
   "cell_type": "code",
   "execution_count": 226,
   "id": "f724b18d-86d1-4c06-aa92-8b763cf5cb65",
   "metadata": {},
   "outputs": [
    {
     "data": {
      "text/html": [
       "<div>\n",
       "<style scoped>\n",
       "    .dataframe tbody tr th:only-of-type {\n",
       "        vertical-align: middle;\n",
       "    }\n",
       "\n",
       "    .dataframe tbody tr th {\n",
       "        vertical-align: top;\n",
       "    }\n",
       "\n",
       "    .dataframe thead th {\n",
       "        text-align: right;\n",
       "    }\n",
       "</style>\n",
       "<table border=\"1\" class=\"dataframe\">\n",
       "  <thead>\n",
       "    <tr style=\"text-align: right;\">\n",
       "      <th></th>\n",
       "      <th>Provider ID</th>\n",
       "      <th>Hospital Name_x</th>\n",
       "      <th>Hospital Name_y</th>\n",
       "      <th>Address</th>\n",
       "    </tr>\n",
       "  </thead>\n",
       "  <tbody>\n",
       "    <tr>\n",
       "      <th>0</th>\n",
       "      <td>10005</td>\n",
       "      <td>MARSHALL</td>\n",
       "      <td>MARSHALL</td>\n",
       "      <td>121510151</td>\n",
       "    </tr>\n",
       "    <tr>\n",
       "      <th>1</th>\n",
       "      <td>10005</td>\n",
       "      <td>MARSHALL</td>\n",
       "      <td>MARSHALL</td>\n",
       "      <td>121510151</td>\n",
       "    </tr>\n",
       "    <tr>\n",
       "      <th>2</th>\n",
       "      <td>10005</td>\n",
       "      <td>MARSHALL</td>\n",
       "      <td>MARSHALL</td>\n",
       "      <td>121510151</td>\n",
       "    </tr>\n",
       "    <tr>\n",
       "      <th>3</th>\n",
       "      <td>10005</td>\n",
       "      <td>MARSHALL</td>\n",
       "      <td>MARSHALL</td>\n",
       "      <td>121510151</td>\n",
       "    </tr>\n",
       "    <tr>\n",
       "      <th>4</th>\n",
       "      <td>10005</td>\n",
       "      <td>MARSHALL</td>\n",
       "      <td>MARSHALL</td>\n",
       "      <td>121510151</td>\n",
       "    </tr>\n",
       "    <tr>\n",
       "      <th>5</th>\n",
       "      <td>10005</td>\n",
       "      <td>MARSHALL</td>\n",
       "      <td>MARSHALL</td>\n",
       "      <td>121510151</td>\n",
       "    </tr>\n",
       "    <tr>\n",
       "      <th>6</th>\n",
       "      <td>10005</td>\n",
       "      <td>MARSHALL</td>\n",
       "      <td>MARSHALL</td>\n",
       "      <td>121510151</td>\n",
       "    </tr>\n",
       "    <tr>\n",
       "      <th>7</th>\n",
       "      <td>10005</td>\n",
       "      <td>MARSHALL</td>\n",
       "      <td>MARSHALL</td>\n",
       "      <td>121510151</td>\n",
       "    </tr>\n",
       "    <tr>\n",
       "      <th>8</th>\n",
       "      <td>10005</td>\n",
       "      <td>MARSHALL</td>\n",
       "      <td>MARSHALL</td>\n",
       "      <td>121510151</td>\n",
       "    </tr>\n",
       "    <tr>\n",
       "      <th>9</th>\n",
       "      <td>10005</td>\n",
       "      <td>MARSHALL</td>\n",
       "      <td>MARSHALL</td>\n",
       "      <td>121510151</td>\n",
       "    </tr>\n",
       "  </tbody>\n",
       "</table>\n",
       "</div>"
      ],
      "text/plain": [
       "   Provider ID Hospital Name_x Hospital Name_y    Address\n",
       "0        10005        MARSHALL        MARSHALL  121510151\n",
       "1        10005        MARSHALL        MARSHALL  121510151\n",
       "2        10005        MARSHALL        MARSHALL  121510151\n",
       "3        10005        MARSHALL        MARSHALL  121510151\n",
       "4        10005        MARSHALL        MARSHALL  121510151\n",
       "5        10005        MARSHALL        MARSHALL  121510151\n",
       "6        10005        MARSHALL        MARSHALL  121510151\n",
       "7        10005        MARSHALL        MARSHALL  121510151\n",
       "8        10005        MARSHALL        MARSHALL  121510151\n",
       "9        10005        MARSHALL        MARSHALL  121510151"
      ]
     },
     "execution_count": 226,
     "metadata": {},
     "output_type": "execute_result"
    }
   ],
   "source": [
    "pd.merge(p,q,on=\"Provider ID\",how=\"inner\")"
   ]
  },
  {
   "cell_type": "code",
   "execution_count": 227,
   "id": "d65bd038-1340-4943-88a0-08167f9b0a00",
   "metadata": {},
   "outputs": [
    {
     "data": {
      "text/html": [
       "<div>\n",
       "<style scoped>\n",
       "    .dataframe tbody tr th:only-of-type {\n",
       "        vertical-align: middle;\n",
       "    }\n",
       "\n",
       "    .dataframe tbody tr th {\n",
       "        vertical-align: top;\n",
       "    }\n",
       "\n",
       "    .dataframe thead th {\n",
       "        text-align: right;\n",
       "    }\n",
       "</style>\n",
       "<table border=\"1\" class=\"dataframe\">\n",
       "  <thead>\n",
       "    <tr style=\"text-align: right;\">\n",
       "      <th></th>\n",
       "      <th>Provider ID</th>\n",
       "      <th>Hospital Name_x</th>\n",
       "      <th>Hospital Name_y</th>\n",
       "      <th>Address</th>\n",
       "    </tr>\n",
       "  </thead>\n",
       "  <tbody>\n",
       "    <tr>\n",
       "      <th>0</th>\n",
       "      <td>10005</td>\n",
       "      <td>MARSHALL</td>\n",
       "      <td>MARSHALL</td>\n",
       "      <td>121510151</td>\n",
       "    </tr>\n",
       "    <tr>\n",
       "      <th>1</th>\n",
       "      <td>10005</td>\n",
       "      <td>MARSHALL</td>\n",
       "      <td>MARSHALL</td>\n",
       "      <td>121510151</td>\n",
       "    </tr>\n",
       "    <tr>\n",
       "      <th>2</th>\n",
       "      <td>10005</td>\n",
       "      <td>MARSHALL</td>\n",
       "      <td>MARSHALL</td>\n",
       "      <td>121510151</td>\n",
       "    </tr>\n",
       "    <tr>\n",
       "      <th>3</th>\n",
       "      <td>10005</td>\n",
       "      <td>MARSHALL</td>\n",
       "      <td>MARSHALL</td>\n",
       "      <td>121510151</td>\n",
       "    </tr>\n",
       "    <tr>\n",
       "      <th>4</th>\n",
       "      <td>10005</td>\n",
       "      <td>MARSHALL</td>\n",
       "      <td>MARSHALL</td>\n",
       "      <td>121510151</td>\n",
       "    </tr>\n",
       "    <tr>\n",
       "      <th>5</th>\n",
       "      <td>10005</td>\n",
       "      <td>MARSHALL</td>\n",
       "      <td>MARSHALL</td>\n",
       "      <td>121510151</td>\n",
       "    </tr>\n",
       "    <tr>\n",
       "      <th>6</th>\n",
       "      <td>10005</td>\n",
       "      <td>MARSHALL</td>\n",
       "      <td>MARSHALL</td>\n",
       "      <td>121510151</td>\n",
       "    </tr>\n",
       "    <tr>\n",
       "      <th>7</th>\n",
       "      <td>10005</td>\n",
       "      <td>MARSHALL</td>\n",
       "      <td>MARSHALL</td>\n",
       "      <td>121510151</td>\n",
       "    </tr>\n",
       "    <tr>\n",
       "      <th>8</th>\n",
       "      <td>10005</td>\n",
       "      <td>MARSHALL</td>\n",
       "      <td>MARSHALL</td>\n",
       "      <td>121510151</td>\n",
       "    </tr>\n",
       "    <tr>\n",
       "      <th>9</th>\n",
       "      <td>10005</td>\n",
       "      <td>MARSHALL</td>\n",
       "      <td>MARSHALL</td>\n",
       "      <td>121510151</td>\n",
       "    </tr>\n",
       "  </tbody>\n",
       "</table>\n",
       "</div>"
      ],
      "text/plain": [
       "   Provider ID Hospital Name_x Hospital Name_y    Address\n",
       "0        10005        MARSHALL        MARSHALL  121510151\n",
       "1        10005        MARSHALL        MARSHALL  121510151\n",
       "2        10005        MARSHALL        MARSHALL  121510151\n",
       "3        10005        MARSHALL        MARSHALL  121510151\n",
       "4        10005        MARSHALL        MARSHALL  121510151\n",
       "5        10005        MARSHALL        MARSHALL  121510151\n",
       "6        10005        MARSHALL        MARSHALL  121510151\n",
       "7        10005        MARSHALL        MARSHALL  121510151\n",
       "8        10005        MARSHALL        MARSHALL  121510151\n",
       "9        10005        MARSHALL        MARSHALL  121510151"
      ]
     },
     "execution_count": 227,
     "metadata": {},
     "output_type": "execute_result"
    }
   ],
   "source": [
    "pd.merge(p,q,on=\"Provider ID\",how=\"left\")"
   ]
  },
  {
   "cell_type": "code",
   "execution_count": 228,
   "id": "77490cb2-0a20-4526-9634-5ba764f58441",
   "metadata": {},
   "outputs": [
    {
     "data": {
      "text/html": [
       "<div>\n",
       "<style scoped>\n",
       "    .dataframe tbody tr th:only-of-type {\n",
       "        vertical-align: middle;\n",
       "    }\n",
       "\n",
       "    .dataframe tbody tr th {\n",
       "        vertical-align: top;\n",
       "    }\n",
       "\n",
       "    .dataframe thead th {\n",
       "        text-align: right;\n",
       "    }\n",
       "</style>\n",
       "<table border=\"1\" class=\"dataframe\">\n",
       "  <thead>\n",
       "    <tr style=\"text-align: right;\">\n",
       "      <th></th>\n",
       "      <th>Provider ID</th>\n",
       "      <th>Hospital Name_x</th>\n",
       "      <th>Hospital Name_y</th>\n",
       "      <th>Address</th>\n",
       "    </tr>\n",
       "  </thead>\n",
       "  <tbody>\n",
       "    <tr>\n",
       "      <th>0</th>\n",
       "      <td>10005</td>\n",
       "      <td>MARSHALL</td>\n",
       "      <td>MARSHALL</td>\n",
       "      <td>121510151</td>\n",
       "    </tr>\n",
       "    <tr>\n",
       "      <th>1</th>\n",
       "      <td>10005</td>\n",
       "      <td>MARSHALL</td>\n",
       "      <td>MARSHALL</td>\n",
       "      <td>121510151</td>\n",
       "    </tr>\n",
       "    <tr>\n",
       "      <th>2</th>\n",
       "      <td>10005</td>\n",
       "      <td>MARSHALL</td>\n",
       "      <td>MARSHALL</td>\n",
       "      <td>121510151</td>\n",
       "    </tr>\n",
       "    <tr>\n",
       "      <th>3</th>\n",
       "      <td>10005</td>\n",
       "      <td>MARSHALL</td>\n",
       "      <td>MARSHALL</td>\n",
       "      <td>121510151</td>\n",
       "    </tr>\n",
       "    <tr>\n",
       "      <th>4</th>\n",
       "      <td>10005</td>\n",
       "      <td>MARSHALL</td>\n",
       "      <td>MARSHALL</td>\n",
       "      <td>121510151</td>\n",
       "    </tr>\n",
       "    <tr>\n",
       "      <th>5</th>\n",
       "      <td>10005</td>\n",
       "      <td>MARSHALL</td>\n",
       "      <td>MARSHALL</td>\n",
       "      <td>121510151</td>\n",
       "    </tr>\n",
       "    <tr>\n",
       "      <th>6</th>\n",
       "      <td>10005</td>\n",
       "      <td>MARSHALL</td>\n",
       "      <td>MARSHALL</td>\n",
       "      <td>121510151</td>\n",
       "    </tr>\n",
       "    <tr>\n",
       "      <th>7</th>\n",
       "      <td>10005</td>\n",
       "      <td>MARSHALL</td>\n",
       "      <td>MARSHALL</td>\n",
       "      <td>121510151</td>\n",
       "    </tr>\n",
       "    <tr>\n",
       "      <th>8</th>\n",
       "      <td>10005</td>\n",
       "      <td>MARSHALL</td>\n",
       "      <td>MARSHALL</td>\n",
       "      <td>121510151</td>\n",
       "    </tr>\n",
       "    <tr>\n",
       "      <th>9</th>\n",
       "      <td>10005</td>\n",
       "      <td>MARSHALL</td>\n",
       "      <td>MARSHALL</td>\n",
       "      <td>121510151</td>\n",
       "    </tr>\n",
       "  </tbody>\n",
       "</table>\n",
       "</div>"
      ],
      "text/plain": [
       "   Provider ID Hospital Name_x Hospital Name_y    Address\n",
       "0        10005        MARSHALL        MARSHALL  121510151\n",
       "1        10005        MARSHALL        MARSHALL  121510151\n",
       "2        10005        MARSHALL        MARSHALL  121510151\n",
       "3        10005        MARSHALL        MARSHALL  121510151\n",
       "4        10005        MARSHALL        MARSHALL  121510151\n",
       "5        10005        MARSHALL        MARSHALL  121510151\n",
       "6        10005        MARSHALL        MARSHALL  121510151\n",
       "7        10005        MARSHALL        MARSHALL  121510151\n",
       "8        10005        MARSHALL        MARSHALL  121510151\n",
       "9        10005        MARSHALL        MARSHALL  121510151"
      ]
     },
     "execution_count": 228,
     "metadata": {},
     "output_type": "execute_result"
    }
   ],
   "source": [
    "pd.merge(p,q,on=\"Provider ID\",how=\"outer\")"
   ]
  }
 ],
 "metadata": {
  "kernelspec": {
   "display_name": "Python 3 (ipykernel)",
   "language": "python",
   "name": "python3"
  },
  "language_info": {
   "codemirror_mode": {
    "name": "ipython",
    "version": 3
   },
   "file_extension": ".py",
   "mimetype": "text/x-python",
   "name": "python",
   "nbconvert_exporter": "python",
   "pygments_lexer": "ipython3",
   "version": "3.12.4"
  }
 },
 "nbformat": 4,
 "nbformat_minor": 5
}
